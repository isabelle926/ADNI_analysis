{
 "cells": [
  {
   "cell_type": "markdown",
   "id": "5099eba5",
   "metadata": {},
   "source": [
    "# Random Under-sampling"
   ]
  },
  {
   "cell_type": "code",
   "execution_count": 1,
   "id": "f2936ec0",
   "metadata": {},
   "outputs": [
    {
     "data": {
      "text/html": [
       "<div>\n",
       "<style scoped>\n",
       "    .dataframe tbody tr th:only-of-type {\n",
       "        vertical-align: middle;\n",
       "    }\n",
       "\n",
       "    .dataframe tbody tr th {\n",
       "        vertical-align: top;\n",
       "    }\n",
       "\n",
       "    .dataframe thead th {\n",
       "        text-align: right;\n",
       "    }\n",
       "</style>\n",
       "<table border=\"1\" class=\"dataframe\">\n",
       "  <thead>\n",
       "    <tr style=\"text-align: right;\">\n",
       "      <th></th>\n",
       "      <th>AD_MCP</th>\n",
       "      <th>AD_PCT</th>\n",
       "      <th>AD_GCC</th>\n",
       "      <th>AD_BCC</th>\n",
       "      <th>AD_SCC</th>\n",
       "      <th>AD_FX</th>\n",
       "      <th>AD_CST_R</th>\n",
       "      <th>AD_CST_L</th>\n",
       "      <th>AD_ML_R</th>\n",
       "      <th>AD_ML_L</th>\n",
       "      <th>...</th>\n",
       "      <th>RD_FXST</th>\n",
       "      <th>RD_SLF</th>\n",
       "      <th>RD_SFO</th>\n",
       "      <th>RD_UNC</th>\n",
       "      <th>RD_TAP</th>\n",
       "      <th>RD_IC</th>\n",
       "      <th>RD_CC</th>\n",
       "      <th>RD_CR</th>\n",
       "      <th>RD_FULLWM</th>\n",
       "      <th>Research Group</th>\n",
       "    </tr>\n",
       "  </thead>\n",
       "  <tbody>\n",
       "    <tr>\n",
       "      <th>0</th>\n",
       "      <td>0.001177</td>\n",
       "      <td>0.000974</td>\n",
       "      <td>0.001479</td>\n",
       "      <td>0.001474</td>\n",
       "      <td>0.001575</td>\n",
       "      <td>0.002257</td>\n",
       "      <td>0.001079</td>\n",
       "      <td>0.001081</td>\n",
       "      <td>0.001285</td>\n",
       "      <td>0.001287</td>\n",
       "      <td>...</td>\n",
       "      <td>0.000662</td>\n",
       "      <td>0.000577</td>\n",
       "      <td>0.000551</td>\n",
       "      <td>0.000600</td>\n",
       "      <td>0.001139</td>\n",
       "      <td>0.000491</td>\n",
       "      <td>0.000562</td>\n",
       "      <td>0.000638</td>\n",
       "      <td>0.000571</td>\n",
       "      <td>CN</td>\n",
       "    </tr>\n",
       "    <tr>\n",
       "      <th>2</th>\n",
       "      <td>0.001213</td>\n",
       "      <td>0.001075</td>\n",
       "      <td>0.001567</td>\n",
       "      <td>0.001585</td>\n",
       "      <td>0.001686</td>\n",
       "      <td>0.002492</td>\n",
       "      <td>0.001046</td>\n",
       "      <td>0.001056</td>\n",
       "      <td>0.001149</td>\n",
       "      <td>0.001126</td>\n",
       "      <td>...</td>\n",
       "      <td>0.000769</td>\n",
       "      <td>0.000694</td>\n",
       "      <td>0.000902</td>\n",
       "      <td>0.000717</td>\n",
       "      <td>0.001507</td>\n",
       "      <td>0.000626</td>\n",
       "      <td>0.000701</td>\n",
       "      <td>0.000851</td>\n",
       "      <td>0.000723</td>\n",
       "      <td>CN</td>\n",
       "    </tr>\n",
       "    <tr>\n",
       "      <th>3</th>\n",
       "      <td>0.001101</td>\n",
       "      <td>0.000965</td>\n",
       "      <td>0.001440</td>\n",
       "      <td>0.001433</td>\n",
       "      <td>0.001456</td>\n",
       "      <td>0.002379</td>\n",
       "      <td>0.000985</td>\n",
       "      <td>0.000990</td>\n",
       "      <td>0.001118</td>\n",
       "      <td>0.001113</td>\n",
       "      <td>...</td>\n",
       "      <td>0.000614</td>\n",
       "      <td>0.000546</td>\n",
       "      <td>0.000562</td>\n",
       "      <td>0.000553</td>\n",
       "      <td>0.000950</td>\n",
       "      <td>0.000448</td>\n",
       "      <td>0.000512</td>\n",
       "      <td>0.000587</td>\n",
       "      <td>0.000531</td>\n",
       "      <td>CN</td>\n",
       "    </tr>\n",
       "    <tr>\n",
       "      <th>4</th>\n",
       "      <td>0.001053</td>\n",
       "      <td>0.000904</td>\n",
       "      <td>0.001433</td>\n",
       "      <td>0.001470</td>\n",
       "      <td>0.001450</td>\n",
       "      <td>0.002421</td>\n",
       "      <td>0.000966</td>\n",
       "      <td>0.000977</td>\n",
       "      <td>0.001047</td>\n",
       "      <td>0.001041</td>\n",
       "      <td>...</td>\n",
       "      <td>0.000607</td>\n",
       "      <td>0.000535</td>\n",
       "      <td>0.000551</td>\n",
       "      <td>0.000530</td>\n",
       "      <td>0.000862</td>\n",
       "      <td>0.000437</td>\n",
       "      <td>0.000509</td>\n",
       "      <td>0.000573</td>\n",
       "      <td>0.000522</td>\n",
       "      <td>CN</td>\n",
       "    </tr>\n",
       "    <tr>\n",
       "      <th>5</th>\n",
       "      <td>0.001131</td>\n",
       "      <td>0.000974</td>\n",
       "      <td>0.001469</td>\n",
       "      <td>0.001498</td>\n",
       "      <td>0.001531</td>\n",
       "      <td>0.002291</td>\n",
       "      <td>0.000994</td>\n",
       "      <td>0.001017</td>\n",
       "      <td>0.001128</td>\n",
       "      <td>0.001105</td>\n",
       "      <td>...</td>\n",
       "      <td>0.000621</td>\n",
       "      <td>0.000559</td>\n",
       "      <td>0.000586</td>\n",
       "      <td>0.000558</td>\n",
       "      <td>0.000901</td>\n",
       "      <td>0.000458</td>\n",
       "      <td>0.000527</td>\n",
       "      <td>0.000605</td>\n",
       "      <td>0.000545</td>\n",
       "      <td>CN</td>\n",
       "    </tr>\n",
       "    <tr>\n",
       "      <th>...</th>\n",
       "      <td>...</td>\n",
       "      <td>...</td>\n",
       "      <td>...</td>\n",
       "      <td>...</td>\n",
       "      <td>...</td>\n",
       "      <td>...</td>\n",
       "      <td>...</td>\n",
       "      <td>...</td>\n",
       "      <td>...</td>\n",
       "      <td>...</td>\n",
       "      <td>...</td>\n",
       "      <td>...</td>\n",
       "      <td>...</td>\n",
       "      <td>...</td>\n",
       "      <td>...</td>\n",
       "      <td>...</td>\n",
       "      <td>...</td>\n",
       "      <td>...</td>\n",
       "      <td>...</td>\n",
       "      <td>...</td>\n",
       "      <td>...</td>\n",
       "    </tr>\n",
       "    <tr>\n",
       "      <th>963</th>\n",
       "      <td>0.001117</td>\n",
       "      <td>0.001011</td>\n",
       "      <td>0.001574</td>\n",
       "      <td>0.001646</td>\n",
       "      <td>0.001712</td>\n",
       "      <td>0.002214</td>\n",
       "      <td>0.001094</td>\n",
       "      <td>0.001118</td>\n",
       "      <td>0.001228</td>\n",
       "      <td>0.001248</td>\n",
       "      <td>...</td>\n",
       "      <td>0.000734</td>\n",
       "      <td>0.000647</td>\n",
       "      <td>0.000913</td>\n",
       "      <td>0.000599</td>\n",
       "      <td>0.001623</td>\n",
       "      <td>0.000538</td>\n",
       "      <td>0.000680</td>\n",
       "      <td>0.000744</td>\n",
       "      <td>0.000652</td>\n",
       "      <td>AD</td>\n",
       "    </tr>\n",
       "    <tr>\n",
       "      <th>964</th>\n",
       "      <td>0.001181</td>\n",
       "      <td>0.001002</td>\n",
       "      <td>0.001423</td>\n",
       "      <td>0.001505</td>\n",
       "      <td>0.001530</td>\n",
       "      <td>0.002266</td>\n",
       "      <td>0.001088</td>\n",
       "      <td>0.001103</td>\n",
       "      <td>0.001224</td>\n",
       "      <td>0.001203</td>\n",
       "      <td>...</td>\n",
       "      <td>0.000584</td>\n",
       "      <td>0.000593</td>\n",
       "      <td>0.000624</td>\n",
       "      <td>0.000619</td>\n",
       "      <td>0.000878</td>\n",
       "      <td>0.000487</td>\n",
       "      <td>0.000567</td>\n",
       "      <td>0.000618</td>\n",
       "      <td>0.000571</td>\n",
       "      <td>CN</td>\n",
       "    </tr>\n",
       "    <tr>\n",
       "      <th>965</th>\n",
       "      <td>0.001126</td>\n",
       "      <td>0.000949</td>\n",
       "      <td>0.001542</td>\n",
       "      <td>0.001747</td>\n",
       "      <td>0.001642</td>\n",
       "      <td>0.002565</td>\n",
       "      <td>0.000978</td>\n",
       "      <td>0.001052</td>\n",
       "      <td>0.001162</td>\n",
       "      <td>0.001190</td>\n",
       "      <td>...</td>\n",
       "      <td>0.000577</td>\n",
       "      <td>0.000589</td>\n",
       "      <td>0.000835</td>\n",
       "      <td>0.000534</td>\n",
       "      <td>0.001478</td>\n",
       "      <td>0.000440</td>\n",
       "      <td>0.000694</td>\n",
       "      <td>0.000659</td>\n",
       "      <td>0.000597</td>\n",
       "      <td>AD</td>\n",
       "    </tr>\n",
       "    <tr>\n",
       "      <th>966</th>\n",
       "      <td>0.001090</td>\n",
       "      <td>0.000976</td>\n",
       "      <td>0.001354</td>\n",
       "      <td>0.001421</td>\n",
       "      <td>0.001427</td>\n",
       "      <td>0.001928</td>\n",
       "      <td>0.001018</td>\n",
       "      <td>0.001007</td>\n",
       "      <td>0.001241</td>\n",
       "      <td>0.001188</td>\n",
       "      <td>...</td>\n",
       "      <td>0.000560</td>\n",
       "      <td>0.000517</td>\n",
       "      <td>0.000514</td>\n",
       "      <td>0.000566</td>\n",
       "      <td>0.000729</td>\n",
       "      <td>0.000441</td>\n",
       "      <td>0.000469</td>\n",
       "      <td>0.000534</td>\n",
       "      <td>0.000509</td>\n",
       "      <td>CN</td>\n",
       "    </tr>\n",
       "    <tr>\n",
       "      <th>967</th>\n",
       "      <td>0.001097</td>\n",
       "      <td>0.000984</td>\n",
       "      <td>0.001477</td>\n",
       "      <td>0.001419</td>\n",
       "      <td>0.001502</td>\n",
       "      <td>0.002556</td>\n",
       "      <td>0.001063</td>\n",
       "      <td>0.001147</td>\n",
       "      <td>0.001268</td>\n",
       "      <td>0.001199</td>\n",
       "      <td>...</td>\n",
       "      <td>0.000601</td>\n",
       "      <td>0.000537</td>\n",
       "      <td>0.000766</td>\n",
       "      <td>0.000605</td>\n",
       "      <td>0.001115</td>\n",
       "      <td>0.000446</td>\n",
       "      <td>0.000598</td>\n",
       "      <td>0.000608</td>\n",
       "      <td>0.000556</td>\n",
       "      <td>MCI</td>\n",
       "    </tr>\n",
       "  </tbody>\n",
       "</table>\n",
       "<p>933 rows × 293 columns</p>\n",
       "</div>"
      ],
      "text/plain": [
       "       AD_MCP    AD_PCT    AD_GCC    AD_BCC    AD_SCC     AD_FX  AD_CST_R  \\\n",
       "0    0.001177  0.000974  0.001479  0.001474  0.001575  0.002257  0.001079   \n",
       "2    0.001213  0.001075  0.001567  0.001585  0.001686  0.002492  0.001046   \n",
       "3    0.001101  0.000965  0.001440  0.001433  0.001456  0.002379  0.000985   \n",
       "4    0.001053  0.000904  0.001433  0.001470  0.001450  0.002421  0.000966   \n",
       "5    0.001131  0.000974  0.001469  0.001498  0.001531  0.002291  0.000994   \n",
       "..        ...       ...       ...       ...       ...       ...       ...   \n",
       "963  0.001117  0.001011  0.001574  0.001646  0.001712  0.002214  0.001094   \n",
       "964  0.001181  0.001002  0.001423  0.001505  0.001530  0.002266  0.001088   \n",
       "965  0.001126  0.000949  0.001542  0.001747  0.001642  0.002565  0.000978   \n",
       "966  0.001090  0.000976  0.001354  0.001421  0.001427  0.001928  0.001018   \n",
       "967  0.001097  0.000984  0.001477  0.001419  0.001502  0.002556  0.001063   \n",
       "\n",
       "     AD_CST_L   AD_ML_R   AD_ML_L  ...   RD_FXST    RD_SLF    RD_SFO  \\\n",
       "0    0.001081  0.001285  0.001287  ...  0.000662  0.000577  0.000551   \n",
       "2    0.001056  0.001149  0.001126  ...  0.000769  0.000694  0.000902   \n",
       "3    0.000990  0.001118  0.001113  ...  0.000614  0.000546  0.000562   \n",
       "4    0.000977  0.001047  0.001041  ...  0.000607  0.000535  0.000551   \n",
       "5    0.001017  0.001128  0.001105  ...  0.000621  0.000559  0.000586   \n",
       "..        ...       ...       ...  ...       ...       ...       ...   \n",
       "963  0.001118  0.001228  0.001248  ...  0.000734  0.000647  0.000913   \n",
       "964  0.001103  0.001224  0.001203  ...  0.000584  0.000593  0.000624   \n",
       "965  0.001052  0.001162  0.001190  ...  0.000577  0.000589  0.000835   \n",
       "966  0.001007  0.001241  0.001188  ...  0.000560  0.000517  0.000514   \n",
       "967  0.001147  0.001268  0.001199  ...  0.000601  0.000537  0.000766   \n",
       "\n",
       "       RD_UNC    RD_TAP     RD_IC     RD_CC     RD_CR  RD_FULLWM  \\\n",
       "0    0.000600  0.001139  0.000491  0.000562  0.000638   0.000571   \n",
       "2    0.000717  0.001507  0.000626  0.000701  0.000851   0.000723   \n",
       "3    0.000553  0.000950  0.000448  0.000512  0.000587   0.000531   \n",
       "4    0.000530  0.000862  0.000437  0.000509  0.000573   0.000522   \n",
       "5    0.000558  0.000901  0.000458  0.000527  0.000605   0.000545   \n",
       "..        ...       ...       ...       ...       ...        ...   \n",
       "963  0.000599  0.001623  0.000538  0.000680  0.000744   0.000652   \n",
       "964  0.000619  0.000878  0.000487  0.000567  0.000618   0.000571   \n",
       "965  0.000534  0.001478  0.000440  0.000694  0.000659   0.000597   \n",
       "966  0.000566  0.000729  0.000441  0.000469  0.000534   0.000509   \n",
       "967  0.000605  0.001115  0.000446  0.000598  0.000608   0.000556   \n",
       "\n",
       "     Research Group  \n",
       "0                CN  \n",
       "2                CN  \n",
       "3                CN  \n",
       "4                CN  \n",
       "5                CN  \n",
       "..              ...  \n",
       "963              AD  \n",
       "964              CN  \n",
       "965              AD  \n",
       "966              CN  \n",
       "967             MCI  \n",
       "\n",
       "[933 rows x 293 columns]"
      ]
     },
     "execution_count": 1,
     "metadata": {},
     "output_type": "execute_result"
    }
   ],
   "source": [
    "from imblearn.under_sampling import RandomUnderSampler\n",
    "import pandas as pd\n",
    "import numpy as np\n",
    "import matplotlib.pyplot as plt\n",
    "\n",
    "df = pd.read_csv('DTI_with_group.csv')\n",
    "# remove unnecessary columns + confounding\n",
    "df = df.drop(['IMAGEUID', 'COLPROT', 'RID', 'VISCODE', \n",
    "                          'VISCODE2', 'EXAMDATE', 'VERSION', 'MANUFACTURER',\n",
    "                         'RUNDATE', 'STATUS', 'QC', 'update_stamp', 'Age', 'VOLUMES', 'Sex'], axis=1)\n",
    "# remove rows with empty values\n",
    "df = df.dropna()\n",
    "df"
   ]
  },
  {
   "cell_type": "code",
   "execution_count": 2,
   "id": "26d12c88",
   "metadata": {},
   "outputs": [],
   "source": [
    "undersample = RandomUnderSampler(sampling_strategy='not minority')"
   ]
  },
  {
   "cell_type": "code",
   "execution_count": 3,
   "id": "0d50f958",
   "metadata": {},
   "outputs": [],
   "source": [
    "X = df.iloc[:, df.columns != 'Research Group'].values\n",
    "y = df.iloc[:, -1].values\n",
    "X_resampled, y_resampled = undersample.fit_resample(X, y)"
   ]
  },
  {
   "cell_type": "code",
   "execution_count": 4,
   "id": "b95b75dd",
   "metadata": {},
   "outputs": [],
   "source": [
    "from sklearn.model_selection import train_test_split\n",
    "\n",
    "X_train, X_test, y_train, y_test = train_test_split(X_resampled, y_resampled, test_size=0.2, random_state=13)"
   ]
  },
  {
   "cell_type": "code",
   "execution_count": 5,
   "id": "54eca56b",
   "metadata": {},
   "outputs": [
    {
     "name": "stdout",
     "output_type": "stream",
     "text": [
      "Actual Value: EMCI\n",
      "Predicted Value: CN\n"
     ]
    }
   ],
   "source": [
    "from sklearn.naive_bayes import GaussianNB\n",
    "\n",
    "# Build a Gaussian Classifier\n",
    "model = GaussianNB()\n",
    "\n",
    "# Model training\n",
    "model.fit(X_train, y_train)\n",
    "\n",
    "# Predict Output\n",
    "predicted = model.predict([X_test[6]])\n",
    "\n",
    "print(\"Actual Value:\", y_test[6])\n",
    "print(\"Predicted Value:\", predicted[0])"
   ]
  },
  {
   "cell_type": "code",
   "execution_count": 6,
   "id": "8974cb58",
   "metadata": {},
   "outputs": [
    {
     "name": "stdout",
     "output_type": "stream",
     "text": [
      "Accuracy: 0.16981132075471697\n",
      "F1 Score: 0.1816185902923567\n"
     ]
    }
   ],
   "source": [
    "from sklearn.metrics import (\n",
    "    accuracy_score,\n",
    "    confusion_matrix,\n",
    "    ConfusionMatrixDisplay,\n",
    "    f1_score,\n",
    ")\n",
    "\n",
    "y_pred = model.predict(X_test)\n",
    "accuray = accuracy_score(y_pred, y_test)\n",
    "f1 = f1_score(y_pred, y_test, average=\"weighted\")\n",
    "\n",
    "print(\"Accuracy:\", accuray)\n",
    "print(\"F1 Score:\", f1)"
   ]
  },
  {
   "cell_type": "markdown",
   "id": "b9ad79e5",
   "metadata": {},
   "source": [
    "### Combined MCI groups"
   ]
  },
  {
   "cell_type": "code",
   "execution_count": 7,
   "id": "20572d0e",
   "metadata": {},
   "outputs": [],
   "source": [
    "df = pd.read_csv('DTI_with_group_comb.csv')\n",
    "# remove unnecessary columns + confounding\n",
    "df = df.drop(['IMAGEUID', 'COLPROT', 'RID', 'VISCODE', \n",
    "                          'VISCODE2', 'EXAMDATE', 'VERSION', 'MANUFACTURER',\n",
    "                         'RUNDATE', 'STATUS', 'QC', 'update_stamp', 'Age', 'VOLUMES', 'Sex'], axis=1)\n",
    "# remove rows with empty values\n",
    "df = df.dropna()"
   ]
  },
  {
   "cell_type": "code",
   "execution_count": 8,
   "id": "280e16b1",
   "metadata": {},
   "outputs": [],
   "source": [
    "X = df.iloc[:, df.columns != 'Research Group'].values\n",
    "y = df.iloc[:, -1].values\n",
    "X_resampled, y_resampled = undersample.fit_resample(X, y)\n",
    "X_train, X_test, y_train, y_test = train_test_split(X_resampled, y_resampled, test_size=0.2, random_state=14)"
   ]
  },
  {
   "cell_type": "code",
   "execution_count": 9,
   "id": "a3ec67ab",
   "metadata": {},
   "outputs": [
    {
     "name": "stdout",
     "output_type": "stream",
     "text": [
      "Actual Value: CN\n",
      "Predicted Value: AD\n"
     ]
    }
   ],
   "source": [
    "model = GaussianNB()\n",
    "\n",
    "# Model training\n",
    "model.fit(X_train, y_train)\n",
    "\n",
    "# Predict Output\n",
    "predicted = model.predict([X_test[6]])\n",
    "\n",
    "print(\"Actual Value:\", y_test[6])\n",
    "print(\"Predicted Value:\", predicted[0])"
   ]
  },
  {
   "cell_type": "code",
   "execution_count": 10,
   "id": "8623b99d",
   "metadata": {},
   "outputs": [
    {
     "name": "stdout",
     "output_type": "stream",
     "text": [
      "Accuracy: 0.4074074074074074\n",
      "F1 Score: 0.42193083352503646\n"
     ]
    }
   ],
   "source": [
    "y_pred = model.predict(X_test)\n",
    "accuray = accuracy_score(y_pred, y_test)\n",
    "f1 = f1_score(y_pred, y_test, average=\"weighted\")\n",
    "\n",
    "print(\"Accuracy:\", accuray)\n",
    "print(\"F1 Score:\", f1)"
   ]
  },
  {
   "cell_type": "code",
   "execution_count": 11,
   "id": "2733ebdc",
   "metadata": {},
   "outputs": [
    {
     "data": {
      "text/plain": [
       "array([[6, 3, 1],\n",
       "       [5, 4, 2],\n",
       "       [2, 3, 1]])"
      ]
     },
     "execution_count": 11,
     "metadata": {},
     "output_type": "execute_result"
    }
   ],
   "source": [
    "cm = confusion_matrix(y_test, y_pred)\n",
    "cm"
   ]
  },
  {
   "cell_type": "markdown",
   "id": "e90e78ab",
   "metadata": {},
   "source": [
    "# Near Miss"
   ]
  },
  {
   "cell_type": "markdown",
   "id": "60b28c31",
   "metadata": {},
   "source": [
    "## Version 1"
   ]
  },
  {
   "cell_type": "code",
   "execution_count": 12,
   "id": "9133e7b1",
   "metadata": {},
   "outputs": [],
   "source": [
    "from imblearn.under_sampling import NearMiss\n",
    "df = pd.read_csv('DTI_with_group.csv')\n",
    "# remove unnecessary columns + confounding\n",
    "df = df.drop(['IMAGEUID', 'COLPROT', 'RID', 'VISCODE', \n",
    "                          'VISCODE2', 'EXAMDATE', 'VERSION', 'MANUFACTURER',\n",
    "                         'RUNDATE', 'STATUS', 'QC', 'update_stamp', 'Age', 'VOLUMES', 'Sex'], axis=1)\n",
    "# remove rows with empty values\n",
    "df = df.dropna()"
   ]
  },
  {
   "cell_type": "code",
   "execution_count": 13,
   "id": "a9e73621",
   "metadata": {},
   "outputs": [],
   "source": [
    "X = df.iloc[:, df.columns != 'Research Group'].values\n",
    "y = df.iloc[:, -1].values\n",
    "X_resampled, y_resampled = NearMiss(sampling_strategy='not minority', version=1).fit_resample(X, y)\n",
    "X_train, X_test, y_train, y_test = train_test_split(X_resampled, y_resampled, test_size=0.2, random_state=17)"
   ]
  },
  {
   "cell_type": "code",
   "execution_count": 14,
   "id": "c2c5c627",
   "metadata": {},
   "outputs": [
    {
     "name": "stdout",
     "output_type": "stream",
     "text": [
      "Actual Value: AD\n",
      "Predicted Value: EMCI\n"
     ]
    }
   ],
   "source": [
    "model = GaussianNB()\n",
    "\n",
    "# Model training\n",
    "model.fit(X_train, y_train)\n",
    "\n",
    "# Predict Output\n",
    "predicted = model.predict([X_test[6]])\n",
    "\n",
    "print(\"Actual Value:\", y_test[6])\n",
    "print(\"Predicted Value:\", predicted[0])"
   ]
  },
  {
   "cell_type": "code",
   "execution_count": 15,
   "id": "0f22e197",
   "metadata": {},
   "outputs": [
    {
     "name": "stdout",
     "output_type": "stream",
     "text": [
      "Accuracy: 0.20754716981132076\n",
      "F1 Score: 0.19610661874812818\n"
     ]
    }
   ],
   "source": [
    "y_pred = model.predict(X_test)\n",
    "accuray = accuracy_score(y_pred, y_test)\n",
    "f1 = f1_score(y_pred, y_test, average=\"weighted\")\n",
    "\n",
    "print(\"Accuracy:\", accuray)\n",
    "print(\"F1 Score:\", f1)"
   ]
  },
  {
   "cell_type": "code",
   "execution_count": 16,
   "id": "45e3bc0c",
   "metadata": {},
   "outputs": [
    {
     "data": {
      "text/plain": [
       "array([[2, 0, 4, 0, 0, 1],\n",
       "       [0, 3, 3, 0, 3, 0],\n",
       "       [0, 3, 2, 4, 2, 0],\n",
       "       [0, 0, 6, 2, 1, 4],\n",
       "       [0, 2, 4, 0, 0, 2],\n",
       "       [0, 1, 0, 1, 1, 2]])"
      ]
     },
     "execution_count": 16,
     "metadata": {},
     "output_type": "execute_result"
    }
   ],
   "source": [
    "cm = confusion_matrix(y_test, y_pred)\n",
    "cm"
   ]
  },
  {
   "cell_type": "markdown",
   "id": "0dbe90ba",
   "metadata": {},
   "source": [
    "### Combined MCI groups"
   ]
  },
  {
   "cell_type": "code",
   "execution_count": 17,
   "id": "115f8875",
   "metadata": {},
   "outputs": [],
   "source": [
    "df = pd.read_csv('DTI_with_group_comb.csv')\n",
    "# remove unnecessary columns + confounding\n",
    "df = df.drop(['IMAGEUID', 'COLPROT', 'RID', 'VISCODE', \n",
    "                          'VISCODE2', 'EXAMDATE', 'VERSION', 'MANUFACTURER',\n",
    "                         'RUNDATE', 'STATUS', 'QC', 'update_stamp', 'Age', 'VOLUMES', 'Sex'], axis=1)\n",
    "# remove rows with empty values\n",
    "df = df.dropna()"
   ]
  },
  {
   "cell_type": "code",
   "execution_count": 18,
   "id": "af109540",
   "metadata": {},
   "outputs": [],
   "source": [
    "X = df.iloc[:, df.columns != 'Research Group'].values\n",
    "y = df.iloc[:, -1].values\n",
    "X_resampled, y_resampled = NearMiss(sampling_strategy='not minority', version=1).fit_resample(X, y)\n",
    "X_train, X_test, y_train, y_test = train_test_split(X_resampled, y_resampled, test_size=0.2, random_state=19)"
   ]
  },
  {
   "cell_type": "code",
   "execution_count": 19,
   "id": "b8a6a606",
   "metadata": {},
   "outputs": [
    {
     "name": "stdout",
     "output_type": "stream",
     "text": [
      "Actual Value: MCI\n",
      "Predicted Value: MCI\n"
     ]
    }
   ],
   "source": [
    "model = GaussianNB()\n",
    "\n",
    "# Model training\n",
    "model.fit(X_train, y_train)\n",
    "\n",
    "# Predict Output\n",
    "predicted = model.predict([X_test[6]])\n",
    "\n",
    "print(\"Actual Value:\", y_test[6])\n",
    "print(\"Predicted Value:\", predicted[0])"
   ]
  },
  {
   "cell_type": "code",
   "execution_count": 20,
   "id": "77dbfdc2",
   "metadata": {},
   "outputs": [
    {
     "name": "stdout",
     "output_type": "stream",
     "text": [
      "Accuracy: 0.4444444444444444\n",
      "F1 Score: 0.43106995884773663\n"
     ]
    }
   ],
   "source": [
    "y_pred = model.predict(X_test)\n",
    "accuray = accuracy_score(y_pred, y_test)\n",
    "f1 = f1_score(y_pred, y_test, average=\"weighted\")\n",
    "\n",
    "print(\"Accuracy:\", accuray)\n",
    "print(\"F1 Score:\", f1)"
   ]
  },
  {
   "cell_type": "code",
   "execution_count": 21,
   "id": "6400804b",
   "metadata": {},
   "outputs": [
    {
     "data": {
      "text/plain": [
       "array([[5, 3, 3],\n",
       "       [0, 3, 3],\n",
       "       [2, 4, 4]])"
      ]
     },
     "execution_count": 21,
     "metadata": {},
     "output_type": "execute_result"
    }
   ],
   "source": [
    "cm = confusion_matrix(y_test, y_pred)\n",
    "cm"
   ]
  },
  {
   "cell_type": "markdown",
   "id": "2ccc1ed2",
   "metadata": {},
   "source": [
    "## Version 2"
   ]
  },
  {
   "cell_type": "code",
   "execution_count": 22,
   "id": "8e0b4b17",
   "metadata": {},
   "outputs": [],
   "source": [
    "from imblearn.under_sampling import NearMiss\n",
    "df = pd.read_csv('DTI_with_group.csv')\n",
    "# remove unnecessary columns + confounding\n",
    "df = df.drop(['IMAGEUID', 'COLPROT', 'RID', 'VISCODE', \n",
    "                          'VISCODE2', 'EXAMDATE', 'VERSION', 'MANUFACTURER',\n",
    "                         'RUNDATE', 'STATUS', 'QC', 'update_stamp', 'Age', 'VOLUMES', 'Sex'], axis=1)\n",
    "# remove rows with empty values\n",
    "df = df.dropna()"
   ]
  },
  {
   "cell_type": "code",
   "execution_count": 23,
   "id": "308bb557",
   "metadata": {},
   "outputs": [],
   "source": [
    "X = df.iloc[:, df.columns != 'Research Group'].values\n",
    "y = df.iloc[:, -1].values\n",
    "X_resampled, y_resampled = NearMiss(sampling_strategy='not minority', version=2).fit_resample(X, y)\n",
    "X_train, X_test, y_train, y_test = train_test_split(X_resampled, y_resampled, test_size=0.2, random_state=17)"
   ]
  },
  {
   "cell_type": "code",
   "execution_count": 24,
   "id": "0b43d62d",
   "metadata": {},
   "outputs": [
    {
     "name": "stdout",
     "output_type": "stream",
     "text": [
      "Actual Value: AD\n",
      "Predicted Value: EMCI\n"
     ]
    }
   ],
   "source": [
    "model = GaussianNB()\n",
    "\n",
    "# Model training\n",
    "model.fit(X_train, y_train)\n",
    "\n",
    "# Predict Output\n",
    "predicted = model.predict([X_test[6]])\n",
    "\n",
    "print(\"Actual Value:\", y_test[6])\n",
    "print(\"Predicted Value:\", predicted[0])"
   ]
  },
  {
   "cell_type": "code",
   "execution_count": 25,
   "id": "c3570904",
   "metadata": {},
   "outputs": [
    {
     "name": "stdout",
     "output_type": "stream",
     "text": [
      "Accuracy: 0.33962264150943394\n",
      "F1 Score: 0.36762753319357094\n"
     ]
    }
   ],
   "source": [
    "y_pred = model.predict(X_test)\n",
    "accuray = accuracy_score(y_pred, y_test)\n",
    "f1 = f1_score(y_pred, y_test, average=\"weighted\")\n",
    "\n",
    "print(\"Accuracy:\", accuray)\n",
    "print(\"F1 Score:\", f1)"
   ]
  },
  {
   "cell_type": "code",
   "execution_count": 26,
   "id": "da2eeec3",
   "metadata": {},
   "outputs": [
    {
     "data": {
      "text/plain": [
       "array([[0, 0, 6, 1, 0, 0],\n",
       "       [0, 3, 1, 3, 1, 1],\n",
       "       [1, 1, 6, 1, 2, 0],\n",
       "       [1, 1, 3, 7, 0, 1],\n",
       "       [2, 2, 3, 0, 0, 1],\n",
       "       [1, 0, 0, 2, 0, 2]])"
      ]
     },
     "execution_count": 26,
     "metadata": {},
     "output_type": "execute_result"
    }
   ],
   "source": [
    "cm = confusion_matrix(y_test, y_pred)\n",
    "cm"
   ]
  },
  {
   "cell_type": "markdown",
   "id": "a2210448",
   "metadata": {},
   "source": [
    "### Combined MCI groups"
   ]
  },
  {
   "cell_type": "code",
   "execution_count": 27,
   "id": "f17ace9e",
   "metadata": {},
   "outputs": [],
   "source": [
    "df = pd.read_csv('DTI_with_group_comb.csv')\n",
    "# remove unnecessary columns + confounding\n",
    "df = df.drop(['IMAGEUID', 'COLPROT', 'RID', 'VISCODE', \n",
    "                          'VISCODE2', 'EXAMDATE', 'VERSION', 'MANUFACTURER',\n",
    "                         'RUNDATE', 'STATUS', 'QC', 'update_stamp', 'Age', 'VOLUMES', 'Sex'], axis=1)\n",
    "# remove rows with empty values\n",
    "df = df.dropna()"
   ]
  },
  {
   "cell_type": "code",
   "execution_count": 28,
   "id": "c6603e2e",
   "metadata": {},
   "outputs": [],
   "source": [
    "X = df.iloc[:, df.columns != 'Research Group'].values\n",
    "y = df.iloc[:, -1].values\n",
    "X_resampled, y_resampled = NearMiss(sampling_strategy='not minority', version=2).fit_resample(X, y)\n",
    "X_train, X_test, y_train, y_test = train_test_split(X_resampled, y_resampled, test_size=0.2, random_state=19)"
   ]
  },
  {
   "cell_type": "code",
   "execution_count": 29,
   "id": "7b3f5f97",
   "metadata": {},
   "outputs": [
    {
     "name": "stdout",
     "output_type": "stream",
     "text": [
      "Actual Value: MCI\n",
      "Predicted Value: MCI\n"
     ]
    }
   ],
   "source": [
    "model = GaussianNB()\n",
    "\n",
    "# Model training\n",
    "model.fit(X_train, y_train)\n",
    "\n",
    "# Predict Output\n",
    "predicted = model.predict([X_test[6]])\n",
    "\n",
    "print(\"Actual Value:\", y_test[6])\n",
    "print(\"Predicted Value:\", predicted[0])"
   ]
  },
  {
   "cell_type": "code",
   "execution_count": 30,
   "id": "64053de3",
   "metadata": {},
   "outputs": [
    {
     "name": "stdout",
     "output_type": "stream",
     "text": [
      "Accuracy: 0.48148148148148145\n",
      "F1 Score: 0.44587139599179504\n"
     ]
    }
   ],
   "source": [
    "y_pred = model.predict(X_test)\n",
    "accuray = accuracy_score(y_pred, y_test)\n",
    "f1 = f1_score(y_pred, y_test, average=\"weighted\")\n",
    "\n",
    "print(\"Accuracy:\", accuray)\n",
    "print(\"F1 Score:\", f1)"
   ]
  },
  {
   "cell_type": "code",
   "execution_count": 31,
   "id": "b47d727b",
   "metadata": {},
   "outputs": [
    {
     "data": {
      "text/plain": [
       "array([[7, 4, 0],\n",
       "       [0, 2, 4],\n",
       "       [1, 5, 4]])"
      ]
     },
     "execution_count": 31,
     "metadata": {},
     "output_type": "execute_result"
    }
   ],
   "source": [
    "cm = confusion_matrix(y_test, y_pred)\n",
    "cm"
   ]
  },
  {
   "cell_type": "markdown",
   "id": "8f978dc4",
   "metadata": {},
   "source": [
    "## Version 3"
   ]
  },
  {
   "cell_type": "code",
   "execution_count": 32,
   "id": "783d2205",
   "metadata": {},
   "outputs": [],
   "source": [
    "from imblearn.under_sampling import NearMiss\n",
    "df = pd.read_csv('DTI_with_group.csv')\n",
    "# remove unnecessary columns + confounding\n",
    "df = df.drop(['IMAGEUID', 'COLPROT', 'RID', 'VISCODE', \n",
    "                          'VISCODE2', 'EXAMDATE', 'VERSION', 'MANUFACTURER',\n",
    "                         'RUNDATE', 'STATUS', 'QC', 'update_stamp', 'Age', 'VOLUMES', 'Sex'], axis=1)\n",
    "# remove rows with empty values\n",
    "df = df.dropna()"
   ]
  },
  {
   "cell_type": "code",
   "execution_count": 33,
   "id": "0a2127df",
   "metadata": {},
   "outputs": [
    {
     "name": "stderr",
     "output_type": "stream",
     "text": [
      "/opt/homebrew/Caskroom/miniforge/base/lib/python3.10/site-packages/imblearn/under_sampling/_prototype_selection/_nearmiss.py:203: UserWarning: The number of the samples to be selected is larger than the number of samples available. The balancing ratio cannot be ensure and all samples will be returned.\n",
      "  warnings.warn(\n",
      "/opt/homebrew/Caskroom/miniforge/base/lib/python3.10/site-packages/imblearn/under_sampling/_prototype_selection/_nearmiss.py:203: UserWarning: The number of the samples to be selected is larger than the number of samples available. The balancing ratio cannot be ensure and all samples will be returned.\n",
      "  warnings.warn(\n"
     ]
    }
   ],
   "source": [
    "X = df.iloc[:, df.columns != 'Research Group'].values\n",
    "y = df.iloc[:, -1].values\n",
    "X_resampled, y_resampled = NearMiss(sampling_strategy='not minority', version=3).fit_resample(X, y)\n",
    "X_train, X_test, y_train, y_test = train_test_split(X_resampled, y_resampled, test_size=0.2, random_state=17)"
   ]
  },
  {
   "cell_type": "code",
   "execution_count": 34,
   "id": "607f4025",
   "metadata": {},
   "outputs": [
    {
     "name": "stdout",
     "output_type": "stream",
     "text": [
      "Actual Value: CN\n",
      "Predicted Value: SMC\n"
     ]
    }
   ],
   "source": [
    "model = GaussianNB()\n",
    "\n",
    "# Model training\n",
    "model.fit(X_train, y_train)\n",
    "\n",
    "# Predict Output\n",
    "predicted = model.predict([X_test[6]])\n",
    "\n",
    "print(\"Actual Value:\", y_test[6])\n",
    "print(\"Predicted Value:\", predicted[0])"
   ]
  },
  {
   "cell_type": "code",
   "execution_count": 35,
   "id": "36a6656c",
   "metadata": {},
   "outputs": [
    {
     "name": "stdout",
     "output_type": "stream",
     "text": [
      "Accuracy: 0.27450980392156865\n",
      "F1 Score: 0.3200459671047906\n"
     ]
    }
   ],
   "source": [
    "y_pred = model.predict(X_test)\n",
    "accuray = accuracy_score(y_pred, y_test)\n",
    "f1 = f1_score(y_pred, y_test, average=\"weighted\")\n",
    "\n",
    "print(\"Accuracy:\", accuray)\n",
    "print(\"F1 Score:\", f1)"
   ]
  },
  {
   "cell_type": "code",
   "execution_count": 36,
   "id": "57ee5123",
   "metadata": {},
   "outputs": [
    {
     "data": {
      "text/plain": [
       "array([[2, 4, 0, 0, 0, 1],\n",
       "       [1, 1, 0, 0, 3, 5],\n",
       "       [2, 3, 0, 1, 3, 4],\n",
       "       [1, 1, 0, 3, 1, 3],\n",
       "       [0, 0, 0, 1, 4, 2],\n",
       "       [0, 0, 0, 0, 1, 4]])"
      ]
     },
     "execution_count": 36,
     "metadata": {},
     "output_type": "execute_result"
    }
   ],
   "source": [
    "cm = confusion_matrix(y_test, y_pred)\n",
    "cm"
   ]
  },
  {
   "cell_type": "markdown",
   "id": "8da8fe36",
   "metadata": {},
   "source": [
    "### Combined MCI groups"
   ]
  },
  {
   "cell_type": "code",
   "execution_count": 37,
   "id": "f88fe2e7",
   "metadata": {},
   "outputs": [],
   "source": [
    "df = pd.read_csv('DTI_with_group_comb.csv')\n",
    "# remove unnecessary columns + confounding\n",
    "df = df.drop(['IMAGEUID', 'COLPROT', 'RID', 'VISCODE', \n",
    "                          'VISCODE2', 'EXAMDATE', 'VERSION', 'MANUFACTURER',\n",
    "                         'RUNDATE', 'STATUS', 'QC', 'update_stamp', 'Age', 'VOLUMES', 'Sex'], axis=1)\n",
    "# remove rows with empty values\n",
    "df = df.dropna()"
   ]
  },
  {
   "cell_type": "code",
   "execution_count": 38,
   "id": "c69b8954",
   "metadata": {},
   "outputs": [],
   "source": [
    "X = df.iloc[:, df.columns != 'Research Group'].values\n",
    "y = df.iloc[:, -1].values\n",
    "X_resampled, y_resampled = NearMiss(sampling_strategy='not minority', version=3).fit_resample(X, y)\n",
    "X_train, X_test, y_train, y_test = train_test_split(X_resampled, y_resampled, test_size=0.2, random_state=19)"
   ]
  },
  {
   "cell_type": "code",
   "execution_count": 39,
   "id": "6ab272e9",
   "metadata": {},
   "outputs": [
    {
     "name": "stdout",
     "output_type": "stream",
     "text": [
      "Actual Value: MCI\n",
      "Predicted Value: MCI\n"
     ]
    }
   ],
   "source": [
    "model = GaussianNB()\n",
    "\n",
    "# Model training\n",
    "model.fit(X_train, y_train)\n",
    "\n",
    "# Predict Output\n",
    "predicted = model.predict([X_test[6]])\n",
    "\n",
    "print(\"Actual Value:\", y_test[6])\n",
    "print(\"Predicted Value:\", predicted[0])"
   ]
  },
  {
   "cell_type": "code",
   "execution_count": 40,
   "id": "5ef490c7",
   "metadata": {},
   "outputs": [
    {
     "name": "stdout",
     "output_type": "stream",
     "text": [
      "Accuracy: 0.37037037037037035\n",
      "F1 Score: 0.3959435626102292\n"
     ]
    }
   ],
   "source": [
    "y_pred = model.predict(X_test)\n",
    "accuray = accuracy_score(y_pred, y_test)\n",
    "f1 = f1_score(y_pred, y_test, average=\"weighted\")\n",
    "\n",
    "print(\"Accuracy:\", accuray)\n",
    "print(\"F1 Score:\", f1)"
   ]
  },
  {
   "cell_type": "code",
   "execution_count": 41,
   "id": "947b3aeb",
   "metadata": {},
   "outputs": [
    {
     "data": {
      "text/plain": [
       "array([[6, 1, 4],\n",
       "       [3, 0, 3],\n",
       "       [4, 2, 4]])"
      ]
     },
     "execution_count": 41,
     "metadata": {},
     "output_type": "execute_result"
    }
   ],
   "source": [
    "cm = confusion_matrix(y_test, y_pred)\n",
    "cm"
   ]
  },
  {
   "cell_type": "markdown",
   "id": "0a14ef7e",
   "metadata": {},
   "source": [
    "# Tomek Links"
   ]
  },
  {
   "cell_type": "code",
   "execution_count": 42,
   "id": "7ab4c847",
   "metadata": {},
   "outputs": [],
   "source": [
    "from imblearn.under_sampling import TomekLinks\n",
    "df = pd.read_csv('DTI_with_group.csv')\n",
    "# remove unnecessary columns + confounding\n",
    "df = df.drop(['IMAGEUID', 'COLPROT', 'RID', 'VISCODE', \n",
    "                          'VISCODE2', 'EXAMDATE', 'VERSION', 'MANUFACTURER',\n",
    "                         'RUNDATE', 'STATUS', 'QC', 'update_stamp', 'Age', 'VOLUMES', 'Sex'], axis=1)\n",
    "# remove rows with empty values\n",
    "df = df.dropna()"
   ]
  },
  {
   "cell_type": "code",
   "execution_count": 43,
   "id": "d1abbb78",
   "metadata": {},
   "outputs": [],
   "source": [
    "X = df.iloc[:, df.columns != 'Research Group'].values\n",
    "y = df.iloc[:, -1].values\n",
    "X_resampled, y_resampled = TomekLinks().fit_resample(X, y)\n",
    "X_train, X_test, y_train, y_test = train_test_split(X_resampled, y_resampled, test_size=0.2, random_state=23)"
   ]
  },
  {
   "cell_type": "code",
   "execution_count": 44,
   "id": "8aec775c",
   "metadata": {},
   "outputs": [
    {
     "name": "stdout",
     "output_type": "stream",
     "text": [
      "Actual Value: MCI\n",
      "Predicted Value: MCI\n"
     ]
    }
   ],
   "source": [
    "model = GaussianNB()\n",
    "\n",
    "# Model training\n",
    "model.fit(X_train, y_train)\n",
    "\n",
    "# Predict Output\n",
    "predicted = model.predict([X_test[6]])\n",
    "\n",
    "print(\"Actual Value:\", y_test[6])\n",
    "print(\"Predicted Value:\", predicted[0])"
   ]
  },
  {
   "cell_type": "code",
   "execution_count": 45,
   "id": "0ab72ad6",
   "metadata": {},
   "outputs": [
    {
     "name": "stdout",
     "output_type": "stream",
     "text": [
      "Accuracy: 0.27906976744186046\n",
      "F1 Score: 0.22132250559907812\n"
     ]
    }
   ],
   "source": [
    "y_pred = model.predict(X_test)\n",
    "accuray = accuracy_score(y_pred, y_test)\n",
    "f1 = f1_score(y_pred, y_test, average=\"weighted\")\n",
    "\n",
    "print(\"Accuracy:\", accuray)\n",
    "print(\"F1 Score:\", f1)"
   ]
  },
  {
   "cell_type": "code",
   "execution_count": 46,
   "id": "018227f0",
   "metadata": {},
   "outputs": [
    {
     "data": {
      "text/plain": [
       "array([[ 1,  2,  0,  1,  0,  3],\n",
       "       [14, 35, 13,  5,  4, 23],\n",
       "       [12,  3,  3,  1,  0,  3],\n",
       "       [ 1,  4,  0,  2,  0,  2],\n",
       "       [ 7,  8,  1,  2,  5, 10],\n",
       "       [ 0,  3,  0,  2,  0,  2]])"
      ]
     },
     "execution_count": 46,
     "metadata": {},
     "output_type": "execute_result"
    }
   ],
   "source": [
    "cm = confusion_matrix(y_test, y_pred)\n",
    "cm"
   ]
  },
  {
   "cell_type": "markdown",
   "id": "0c6bdf2a",
   "metadata": {},
   "source": [
    "### Combined MCI groups"
   ]
  },
  {
   "cell_type": "code",
   "execution_count": 47,
   "id": "b7102a99",
   "metadata": {},
   "outputs": [],
   "source": [
    "df = pd.read_csv('DTI_with_group_comb.csv')\n",
    "# remove unnecessary columns + confounding\n",
    "df = df.drop(['IMAGEUID', 'COLPROT', 'RID', 'VISCODE', \n",
    "                          'VISCODE2', 'EXAMDATE', 'VERSION', 'MANUFACTURER',\n",
    "                         'RUNDATE', 'STATUS', 'QC', 'update_stamp', 'Age', 'VOLUMES', 'Sex'], axis=1)\n",
    "# remove rows with empty values\n",
    "df = df.dropna()"
   ]
  },
  {
   "cell_type": "code",
   "execution_count": 48,
   "id": "224176e6",
   "metadata": {},
   "outputs": [],
   "source": [
    "X = df.iloc[:, df.columns != 'Research Group'].values\n",
    "y = df.iloc[:, -1].values\n",
    "X_resampled, y_resampled = TomekLinks().fit_resample(X, y)\n",
    "X_train, X_test, y_train, y_test = train_test_split(X_resampled, y_resampled, test_size=0.2, random_state=26)"
   ]
  },
  {
   "cell_type": "code",
   "execution_count": 49,
   "id": "15906011",
   "metadata": {},
   "outputs": [
    {
     "name": "stdout",
     "output_type": "stream",
     "text": [
      "Actual Value: CN\n",
      "Predicted Value: CN\n"
     ]
    }
   ],
   "source": [
    "model = GaussianNB()\n",
    "\n",
    "# Model training\n",
    "model.fit(X_train, y_train)\n",
    "\n",
    "# Predict Output\n",
    "predicted = model.predict([X_test[6]])\n",
    "\n",
    "print(\"Actual Value:\", y_test[6])\n",
    "print(\"Predicted Value:\", predicted[0])"
   ]
  },
  {
   "cell_type": "code",
   "execution_count": 50,
   "id": "3538e7f8",
   "metadata": {},
   "outputs": [
    {
     "name": "stdout",
     "output_type": "stream",
     "text": [
      "Accuracy: 0.5170454545454546\n",
      "F1 Score: 0.501998129909338\n"
     ]
    }
   ],
   "source": [
    "y_pred = model.predict(X_test)\n",
    "accuray = accuracy_score(y_pred, y_test)\n",
    "f1 = f1_score(y_pred, y_test, average=\"weighted\")\n",
    "\n",
    "print(\"Accuracy:\", accuray)\n",
    "print(\"F1 Score:\", f1)"
   ]
  },
  {
   "cell_type": "code",
   "execution_count": 51,
   "id": "7b388e86",
   "metadata": {},
   "outputs": [
    {
     "data": {
      "text/plain": [
       "array([[ 2,  2,  1],\n",
       "       [22, 79, 14],\n",
       "       [13, 33, 10]])"
      ]
     },
     "execution_count": 51,
     "metadata": {},
     "output_type": "execute_result"
    }
   ],
   "source": [
    "cm = confusion_matrix(y_test, y_pred)\n",
    "cm"
   ]
  },
  {
   "cell_type": "markdown",
   "id": "a651239d",
   "metadata": {},
   "source": [
    "# Condensed Nearest Neighbor"
   ]
  },
  {
   "cell_type": "code",
   "execution_count": 52,
   "id": "f48f41c8",
   "metadata": {},
   "outputs": [],
   "source": [
    "from imblearn.under_sampling import CondensedNearestNeighbour\n",
    "df = pd.read_csv('DTI_with_group.csv')\n",
    "# remove unnecessary columns + confounding\n",
    "df = df.drop(['IMAGEUID', 'COLPROT', 'RID', 'VISCODE', \n",
    "                          'VISCODE2', 'EXAMDATE', 'VERSION', 'MANUFACTURER',\n",
    "                         'RUNDATE', 'STATUS', 'QC', 'update_stamp', 'Age', 'VOLUMES', 'Sex'], axis=1)\n",
    "# remove rows with empty values\n",
    "df = df.dropna()"
   ]
  },
  {
   "cell_type": "code",
   "execution_count": 53,
   "id": "ae249e57",
   "metadata": {},
   "outputs": [],
   "source": [
    "undersample = CondensedNearestNeighbour(n_neighbors=1)"
   ]
  },
  {
   "cell_type": "code",
   "execution_count": 54,
   "id": "4b6c12c7",
   "metadata": {},
   "outputs": [],
   "source": [
    "X = df.iloc[:, df.columns != 'Research Group'].values\n",
    "y = df.iloc[:, -1].values\n",
    "X_resampled, y_resampled = undersample.fit_resample(X, y)\n",
    "X_train, X_test, y_train, y_test = train_test_split(X_resampled, y_resampled, test_size=0.2, random_state=38)"
   ]
  },
  {
   "cell_type": "code",
   "execution_count": 55,
   "id": "efadd8c0",
   "metadata": {},
   "outputs": [
    {
     "name": "stdout",
     "output_type": "stream",
     "text": [
      "Actual Value: CN\n",
      "Predicted Value: MCI\n"
     ]
    }
   ],
   "source": [
    "model = GaussianNB()\n",
    "\n",
    "# Model training\n",
    "model.fit(X_train, y_train)\n",
    "\n",
    "# Predict Output\n",
    "predicted = model.predict([X_test[6]])\n",
    "\n",
    "print(\"Actual Value:\", y_test[6])\n",
    "print(\"Predicted Value:\", predicted[0])"
   ]
  },
  {
   "cell_type": "code",
   "execution_count": 56,
   "id": "23bd3511",
   "metadata": {},
   "outputs": [
    {
     "name": "stdout",
     "output_type": "stream",
     "text": [
      "Accuracy: 0.1875\n",
      "F1 Score: 0.19029944653299916\n"
     ]
    }
   ],
   "source": [
    "y_pred = model.predict(X_test)\n",
    "accuray = accuracy_score(y_pred, y_test)\n",
    "f1 = f1_score(y_pred, y_test, average=\"weighted\")\n",
    "\n",
    "print(\"Accuracy:\", accuray)\n",
    "print(\"F1 Score:\", f1)"
   ]
  },
  {
   "cell_type": "code",
   "execution_count": 57,
   "id": "945f5926",
   "metadata": {},
   "outputs": [
    {
     "data": {
      "text/plain": [
       "array([[3, 0, 0, 1, 1, 3],\n",
       "       [3, 2, 1, 3, 1, 7],\n",
       "       [7, 1, 1, 2, 2, 3],\n",
       "       [3, 2, 1, 3, 0, 0],\n",
       "       [2, 1, 1, 1, 2, 3],\n",
       "       [1, 2, 0, 0, 0, 1]])"
      ]
     },
     "execution_count": 57,
     "metadata": {},
     "output_type": "execute_result"
    }
   ],
   "source": [
    "cm = confusion_matrix(y_test, y_pred)\n",
    "cm"
   ]
  },
  {
   "cell_type": "markdown",
   "id": "281fec2b",
   "metadata": {},
   "source": [
    "### Combined MCI groups"
   ]
  },
  {
   "cell_type": "code",
   "execution_count": 58,
   "id": "aeef8153",
   "metadata": {},
   "outputs": [],
   "source": [
    "df = pd.read_csv('DTI_with_group_comb.csv')\n",
    "# remove unnecessary columns + confounding\n",
    "df = df.drop(['IMAGEUID', 'COLPROT', 'RID', 'VISCODE', \n",
    "                          'VISCODE2', 'EXAMDATE', 'VERSION', 'MANUFACTURER',\n",
    "                         'RUNDATE', 'STATUS', 'QC', 'update_stamp', 'Age', 'VOLUMES', 'Sex'], axis=1)\n",
    "# remove rows with empty values\n",
    "df = df.dropna()"
   ]
  },
  {
   "cell_type": "code",
   "execution_count": 59,
   "id": "8b583bce",
   "metadata": {},
   "outputs": [],
   "source": [
    "X = df.iloc[:, df.columns != 'Research Group'].values\n",
    "y = df.iloc[:, -1].values\n",
    "X_resampled, y_resampled = undersample.fit_resample(X, y)\n",
    "X_train, X_test, y_train, y_test = train_test_split(X_resampled, y_resampled, test_size=0.2, random_state=43)"
   ]
  },
  {
   "cell_type": "code",
   "execution_count": 60,
   "id": "a1867e5b",
   "metadata": {},
   "outputs": [
    {
     "name": "stdout",
     "output_type": "stream",
     "text": [
      "Actual Value: MCI\n",
      "Predicted Value: MCI\n"
     ]
    }
   ],
   "source": [
    "model = GaussianNB()\n",
    "\n",
    "# Model training\n",
    "model.fit(X_train, y_train)\n",
    "\n",
    "# Predict Output\n",
    "predicted = model.predict([X_test[6]])\n",
    "\n",
    "print(\"Actual Value:\", y_test[6])\n",
    "print(\"Predicted Value:\", predicted[0])"
   ]
  },
  {
   "cell_type": "code",
   "execution_count": 61,
   "id": "0d997e7b",
   "metadata": {},
   "outputs": [
    {
     "name": "stdout",
     "output_type": "stream",
     "text": [
      "Accuracy: 0.48\n",
      "F1 Score: 0.5024000000000001\n"
     ]
    }
   ],
   "source": [
    "y_pred = model.predict(X_test)\n",
    "accuray = accuracy_score(y_pred, y_test)\n",
    "f1 = f1_score(y_pred, y_test, average=\"weighted\")\n",
    "\n",
    "print(\"Accuracy:\", accuray)\n",
    "print(\"F1 Score:\", f1)"
   ]
  },
  {
   "cell_type": "code",
   "execution_count": 62,
   "id": "3b1ea95b",
   "metadata": {},
   "outputs": [
    {
     "data": {
      "text/plain": [
       "array([[ 7,  1,  1],\n",
       "       [ 6, 14,  5],\n",
       "       [ 3, 10,  3]])"
      ]
     },
     "execution_count": 62,
     "metadata": {},
     "output_type": "execute_result"
    }
   ],
   "source": [
    "cm = confusion_matrix(y_test, y_pred)\n",
    "cm"
   ]
  },
  {
   "cell_type": "markdown",
   "id": "dcedcfeb",
   "metadata": {},
   "source": [
    "# Edited Nearest Neighbors"
   ]
  },
  {
   "cell_type": "code",
   "execution_count": 63,
   "id": "298eb6cb",
   "metadata": {},
   "outputs": [],
   "source": [
    "from imblearn.under_sampling import EditedNearestNeighbours\n",
    "undersample = EditedNearestNeighbours(n_neighbors=3)\n",
    "df = pd.read_csv('DTI_with_group.csv')\n",
    "# remove unnecessary columns + confounding\n",
    "df = df.drop(['IMAGEUID', 'COLPROT', 'RID', 'VISCODE', \n",
    "                          'VISCODE2', 'EXAMDATE', 'VERSION', 'MANUFACTURER',\n",
    "                         'RUNDATE', 'STATUS', 'QC', 'update_stamp', 'Age', 'VOLUMES', 'Sex'], axis=1)\n",
    "# remove rows with empty values\n",
    "df = df.dropna()"
   ]
  },
  {
   "cell_type": "code",
   "execution_count": 64,
   "id": "9d9949fb",
   "metadata": {},
   "outputs": [],
   "source": [
    "X = df.iloc[:, df.columns != 'Research Group'].values\n",
    "y = df.iloc[:, -1].values\n",
    "X_resampled, y_resampled = undersample.fit_resample(X, y)\n",
    "X_train, X_test, y_train, y_test = train_test_split(X_resampled, y_resampled, test_size=0.2, random_state=46)"
   ]
  },
  {
   "cell_type": "code",
   "execution_count": 65,
   "id": "a70e3eb5",
   "metadata": {},
   "outputs": [
    {
     "name": "stdout",
     "output_type": "stream",
     "text": [
      "Actual Value: AD\n",
      "Predicted Value: AD\n"
     ]
    }
   ],
   "source": [
    "model = GaussianNB()\n",
    "\n",
    "# Model training\n",
    "model.fit(X_train, y_train)\n",
    "\n",
    "# Predict Output\n",
    "predicted = model.predict([X_test[6]])\n",
    "\n",
    "print(\"Actual Value:\", y_test[6])\n",
    "print(\"Predicted Value:\", predicted[0])"
   ]
  },
  {
   "cell_type": "code",
   "execution_count": 66,
   "id": "a867f8f7",
   "metadata": {},
   "outputs": [
    {
     "name": "stdout",
     "output_type": "stream",
     "text": [
      "Accuracy: 0.84375\n",
      "F1 Score: 0.8606459330143539\n"
     ]
    }
   ],
   "source": [
    "y_pred = model.predict(X_test)\n",
    "accuray = accuracy_score(y_pred, y_test)\n",
    "f1 = f1_score(y_pred, y_test, average=\"weighted\")\n",
    "\n",
    "print(\"Accuracy:\", accuray)\n",
    "print(\"F1 Score:\", f1)"
   ]
  },
  {
   "cell_type": "code",
   "execution_count": 67,
   "id": "60f65346",
   "metadata": {},
   "outputs": [
    {
     "data": {
      "text/plain": [
       "array([[ 7,  3,  0],\n",
       "       [ 1, 20,  0],\n",
       "       [ 1,  0,  0]])"
      ]
     },
     "execution_count": 67,
     "metadata": {},
     "output_type": "execute_result"
    }
   ],
   "source": [
    "cm = confusion_matrix(y_test, y_pred)\n",
    "cm"
   ]
  },
  {
   "cell_type": "markdown",
   "id": "4e7666cd",
   "metadata": {},
   "source": [
    "What happened here? Aren't there supposed to be six rows and columns? My guess is that ENN removed the data points for some of the other labels (lMCI, eMCI, SMC) since they were too similar to other labels"
   ]
  },
  {
   "cell_type": "markdown",
   "id": "39da83fc",
   "metadata": {},
   "source": [
    "# One-Sided Selection"
   ]
  },
  {
   "cell_type": "code",
   "execution_count": 68,
   "id": "9d2ef57e",
   "metadata": {},
   "outputs": [],
   "source": [
    "from imblearn.under_sampling import OneSidedSelection\n",
    "undersample = OneSidedSelection(n_neighbors=1, n_seeds_S=200)\n",
    "df = pd.read_csv('DTI_with_group.csv')\n",
    "# remove unnecessary columns + confounding\n",
    "df = df.drop(['IMAGEUID', 'COLPROT', 'RID', 'VISCODE', \n",
    "                          'VISCODE2', 'EXAMDATE', 'VERSION', 'MANUFACTURER',\n",
    "                         'RUNDATE', 'STATUS', 'QC', 'update_stamp', 'Age', 'VOLUMES', 'Sex'], axis=1)\n",
    "# remove rows with empty values\n",
    "df = df.dropna()"
   ]
  },
  {
   "cell_type": "code",
   "execution_count": 69,
   "id": "fb9c9512",
   "metadata": {},
   "outputs": [],
   "source": [
    "X = df.iloc[:, df.columns != 'Research Group'].values\n",
    "y = df.iloc[:, -1].values\n",
    "X_resampled, y_resampled = undersample.fit_resample(X, y)\n",
    "X_train, X_test, y_train, y_test = train_test_split(X_resampled, y_resampled, test_size=0.2, random_state=46)"
   ]
  },
  {
   "cell_type": "code",
   "execution_count": 70,
   "id": "bad5443e",
   "metadata": {},
   "outputs": [
    {
     "name": "stdout",
     "output_type": "stream",
     "text": [
      "Actual Value: SMC\n",
      "Predicted Value: EMCI\n"
     ]
    }
   ],
   "source": [
    "model = GaussianNB()\n",
    "\n",
    "# Model training\n",
    "model.fit(X_train, y_train)\n",
    "\n",
    "# Predict Output\n",
    "predicted = model.predict([X_test[6]])\n",
    "\n",
    "print(\"Actual Value:\", y_test[6])\n",
    "print(\"Predicted Value:\", predicted[0])"
   ]
  },
  {
   "cell_type": "code",
   "execution_count": 71,
   "id": "85cd7db2",
   "metadata": {},
   "outputs": [
    {
     "name": "stdout",
     "output_type": "stream",
     "text": [
      "Accuracy: 0.25821596244131456\n",
      "F1 Score: 0.2601197799479558\n"
     ]
    }
   ],
   "source": [
    "y_pred = model.predict(X_test)\n",
    "accuray = accuracy_score(y_pred, y_test)\n",
    "f1 = f1_score(y_pred, y_test, average=\"weighted\")\n",
    "\n",
    "print(\"Accuracy:\", accuray)\n",
    "print(\"F1 Score:\", f1)"
   ]
  },
  {
   "cell_type": "code",
   "execution_count": 72,
   "id": "d857f46a",
   "metadata": {},
   "outputs": [
    {
     "data": {
      "text/plain": [
       "array([[ 1,  0,  5,  1,  0,  3],\n",
       "       [ 5, 16,  7,  1,  3, 16],\n",
       "       [ 9,  6,  9,  1,  0, 16],\n",
       "       [ 2,  7,  0,  5,  0, 15],\n",
       "       [ 2, 10,  7,  2,  5, 14],\n",
       "       [ 5,  7,  5,  8,  1, 19]])"
      ]
     },
     "execution_count": 72,
     "metadata": {},
     "output_type": "execute_result"
    }
   ],
   "source": [
    "cm = confusion_matrix(y_test, y_pred)\n",
    "cm"
   ]
  },
  {
   "cell_type": "markdown",
   "id": "dc99423d",
   "metadata": {},
   "source": [
    "### Combined MCI groups"
   ]
  },
  {
   "cell_type": "code",
   "execution_count": 73,
   "id": "0ffaccfa",
   "metadata": {},
   "outputs": [],
   "source": [
    "df = pd.read_csv('DTI_with_group_comb.csv')\n",
    "# remove unnecessary columns + confounding\n",
    "df = df.drop(['IMAGEUID', 'COLPROT', 'RID', 'VISCODE', \n",
    "                          'VISCODE2', 'EXAMDATE', 'VERSION', 'MANUFACTURER',\n",
    "                         'RUNDATE', 'STATUS', 'QC', 'update_stamp', 'Age', 'VOLUMES', 'Sex'], axis=1)\n",
    "# remove rows with empty values\n",
    "df = df.dropna()"
   ]
  },
  {
   "cell_type": "code",
   "execution_count": 74,
   "id": "f9fde39b",
   "metadata": {},
   "outputs": [],
   "source": [
    "X = df.iloc[:, df.columns != 'Research Group'].values\n",
    "y = df.iloc[:, -1].values\n",
    "X_resampled, y_resampled = undersample.fit_resample(X, y)\n",
    "X_train, X_test, y_train, y_test = train_test_split(X_resampled, y_resampled, test_size=0.2, random_state=46)"
   ]
  },
  {
   "cell_type": "code",
   "execution_count": 75,
   "id": "4d54399b",
   "metadata": {},
   "outputs": [
    {
     "name": "stdout",
     "output_type": "stream",
     "text": [
      "Actual Value: MCI\n",
      "Predicted Value: CN\n"
     ]
    }
   ],
   "source": [
    "model = GaussianNB()\n",
    "\n",
    "# Model training\n",
    "model.fit(X_train, y_train)\n",
    "\n",
    "# Predict Output\n",
    "predicted = model.predict([X_test[6]])\n",
    "\n",
    "print(\"Actual Value:\", y_test[6])\n",
    "print(\"Predicted Value:\", predicted[0])"
   ]
  },
  {
   "cell_type": "code",
   "execution_count": 76,
   "id": "86c0b1cb",
   "metadata": {},
   "outputs": [
    {
     "name": "stdout",
     "output_type": "stream",
     "text": [
      "Accuracy: 0.4948453608247423\n",
      "F1 Score: 0.5286774118068078\n"
     ]
    }
   ],
   "source": [
    "y_pred = model.predict(X_test)\n",
    "accuray = accuracy_score(y_pred, y_test)\n",
    "f1 = f1_score(y_pred, y_test, average=\"weighted\")\n",
    "\n",
    "print(\"Accuracy:\", accuray)\n",
    "print(\"F1 Score:\", f1)"
   ]
  },
  {
   "cell_type": "code",
   "execution_count": 77,
   "id": "127e4d66",
   "metadata": {},
   "outputs": [
    {
     "data": {
      "text/plain": [
       "array([[ 4,  4,  0],\n",
       "       [ 4, 33,  4],\n",
       "       [ 8, 29, 11]])"
      ]
     },
     "execution_count": 77,
     "metadata": {},
     "output_type": "execute_result"
    }
   ],
   "source": [
    "cm = confusion_matrix(y_test, y_pred)\n",
    "cm"
   ]
  },
  {
   "cell_type": "markdown",
   "id": "ee9982e3",
   "metadata": {},
   "source": [
    "# Cluster Centroids"
   ]
  },
  {
   "cell_type": "code",
   "execution_count": 78,
   "id": "3c7ef741",
   "metadata": {},
   "outputs": [],
   "source": [
    "from imblearn.under_sampling import ClusterCentroids\n",
    "undersample = ClusterCentroids()\n",
    "df = pd.read_csv('DTI_with_group.csv')\n",
    "# remove unnecessary columns + confounding\n",
    "df = df.drop(['IMAGEUID', 'COLPROT', 'RID', 'VISCODE', \n",
    "                          'VISCODE2', 'EXAMDATE', 'VERSION', 'MANUFACTURER',\n",
    "                         'RUNDATE', 'STATUS', 'QC', 'update_stamp', 'Age', 'VOLUMES', 'Sex'], axis=1)\n",
    "# remove rows with empty values\n",
    "df = df.dropna()"
   ]
  },
  {
   "cell_type": "code",
   "execution_count": 79,
   "id": "9283725b",
   "metadata": {},
   "outputs": [
    {
     "name": "stderr",
     "output_type": "stream",
     "text": [
      "/opt/homebrew/Caskroom/miniforge/base/lib/python3.10/site-packages/sklearn/cluster/_kmeans.py:1412: FutureWarning: The default value of `n_init` will change from 10 to 'auto' in 1.4. Set the value of `n_init` explicitly to suppress the warning\n",
      "  super()._check_params_vs_input(X, default_n_init=10)\n",
      "/opt/homebrew/Caskroom/miniforge/base/lib/python3.10/site-packages/sklearn/cluster/_kmeans.py:1412: FutureWarning: The default value of `n_init` will change from 10 to 'auto' in 1.4. Set the value of `n_init` explicitly to suppress the warning\n",
      "  super()._check_params_vs_input(X, default_n_init=10)\n",
      "/opt/homebrew/Caskroom/miniforge/base/lib/python3.10/site-packages/sklearn/cluster/_kmeans.py:1412: FutureWarning: The default value of `n_init` will change from 10 to 'auto' in 1.4. Set the value of `n_init` explicitly to suppress the warning\n",
      "  super()._check_params_vs_input(X, default_n_init=10)\n",
      "/opt/homebrew/Caskroom/miniforge/base/lib/python3.10/site-packages/sklearn/cluster/_kmeans.py:1412: FutureWarning: The default value of `n_init` will change from 10 to 'auto' in 1.4. Set the value of `n_init` explicitly to suppress the warning\n",
      "  super()._check_params_vs_input(X, default_n_init=10)\n",
      "/opt/homebrew/Caskroom/miniforge/base/lib/python3.10/site-packages/sklearn/cluster/_kmeans.py:1412: FutureWarning: The default value of `n_init` will change from 10 to 'auto' in 1.4. Set the value of `n_init` explicitly to suppress the warning\n",
      "  super()._check_params_vs_input(X, default_n_init=10)\n"
     ]
    }
   ],
   "source": [
    "X = df.iloc[:, df.columns != 'Research Group'].values\n",
    "y = df.iloc[:, -1].values\n",
    "X_resampled, y_resampled = undersample.fit_resample(X, y)\n",
    "X_train, X_test, y_train, y_test = train_test_split(X_resampled, y_resampled, test_size=0.2, random_state=46)"
   ]
  },
  {
   "cell_type": "code",
   "execution_count": 80,
   "id": "9b777898",
   "metadata": {},
   "outputs": [
    {
     "name": "stdout",
     "output_type": "stream",
     "text": [
      "Actual Value: CN\n",
      "Predicted Value: SMC\n"
     ]
    }
   ],
   "source": [
    "model = GaussianNB()\n",
    "\n",
    "# Model training\n",
    "model.fit(X_train, y_train)\n",
    "\n",
    "# Predict Output\n",
    "predicted = model.predict([X_test[6]])\n",
    "\n",
    "print(\"Actual Value:\", y_test[6])\n",
    "print(\"Predicted Value:\", predicted[0])"
   ]
  },
  {
   "cell_type": "code",
   "execution_count": 81,
   "id": "6d77e581",
   "metadata": {},
   "outputs": [
    {
     "name": "stdout",
     "output_type": "stream",
     "text": [
      "Accuracy: 0.16981132075471697\n",
      "F1 Score: 0.19302458547741566\n"
     ]
    }
   ],
   "source": [
    "y_pred = model.predict(X_test)\n",
    "accuray = accuracy_score(y_pred, y_test)\n",
    "f1 = f1_score(y_pred, y_test, average=\"weighted\")\n",
    "\n",
    "print(\"Accuracy:\", accuray)\n",
    "print(\"F1 Score:\", f1)"
   ]
  },
  {
   "cell_type": "code",
   "execution_count": 82,
   "id": "8afb6537",
   "metadata": {},
   "outputs": [
    {
     "data": {
      "text/plain": [
       "array([[1, 3, 3, 0, 2, 3],\n",
       "       [0, 0, 2, 1, 0, 5],\n",
       "       [3, 0, 1, 0, 1, 3],\n",
       "       [0, 2, 1, 1, 0, 5],\n",
       "       [0, 0, 3, 0, 1, 3],\n",
       "       [2, 0, 2, 0, 0, 5]])"
      ]
     },
     "execution_count": 82,
     "metadata": {},
     "output_type": "execute_result"
    }
   ],
   "source": [
    "cm = confusion_matrix(y_test, y_pred)\n",
    "cm"
   ]
  },
  {
   "cell_type": "markdown",
   "id": "2530ec77",
   "metadata": {},
   "source": [
    "### Combined MCI groups"
   ]
  },
  {
   "cell_type": "code",
   "execution_count": 83,
   "id": "7bd2c593",
   "metadata": {},
   "outputs": [],
   "source": [
    "df = pd.read_csv('DTI_with_group_comb.csv')\n",
    "# remove unnecessary columns + confounding\n",
    "df = df.drop(['IMAGEUID', 'COLPROT', 'RID', 'VISCODE', \n",
    "                          'VISCODE2', 'EXAMDATE', 'VERSION', 'MANUFACTURER',\n",
    "                         'RUNDATE', 'STATUS', 'QC', 'update_stamp', 'Age', 'VOLUMES', 'Sex'], axis=1)\n",
    "# remove rows with empty values\n",
    "df = df.dropna()"
   ]
  },
  {
   "cell_type": "code",
   "execution_count": 84,
   "id": "9b758443",
   "metadata": {},
   "outputs": [
    {
     "name": "stderr",
     "output_type": "stream",
     "text": [
      "/opt/homebrew/Caskroom/miniforge/base/lib/python3.10/site-packages/sklearn/cluster/_kmeans.py:1412: FutureWarning: The default value of `n_init` will change from 10 to 'auto' in 1.4. Set the value of `n_init` explicitly to suppress the warning\n",
      "  super()._check_params_vs_input(X, default_n_init=10)\n",
      "/opt/homebrew/Caskroom/miniforge/base/lib/python3.10/site-packages/sklearn/cluster/_kmeans.py:1412: FutureWarning: The default value of `n_init` will change from 10 to 'auto' in 1.4. Set the value of `n_init` explicitly to suppress the warning\n",
      "  super()._check_params_vs_input(X, default_n_init=10)\n"
     ]
    }
   ],
   "source": [
    "X = df.iloc[:, df.columns != 'Research Group'].values\n",
    "y = df.iloc[:, -1].values\n",
    "X_resampled, y_resampled = undersample.fit_resample(X, y)\n",
    "X_train, X_test, y_train, y_test = train_test_split(X_resampled, y_resampled, test_size=0.2, random_state=46)"
   ]
  },
  {
   "cell_type": "code",
   "execution_count": 85,
   "id": "945616b6",
   "metadata": {},
   "outputs": [
    {
     "name": "stdout",
     "output_type": "stream",
     "text": [
      "Actual Value: CN\n",
      "Predicted Value: CN\n"
     ]
    }
   ],
   "source": [
    "model = GaussianNB()\n",
    "\n",
    "# Model training\n",
    "model.fit(X_train, y_train)\n",
    "\n",
    "# Predict Output\n",
    "predicted = model.predict([X_test[6]])\n",
    "\n",
    "print(\"Actual Value:\", y_test[6])\n",
    "print(\"Predicted Value:\", predicted[0])"
   ]
  },
  {
   "cell_type": "code",
   "execution_count": 86,
   "id": "3d779c78",
   "metadata": {},
   "outputs": [
    {
     "name": "stdout",
     "output_type": "stream",
     "text": [
      "Accuracy: 0.4444444444444444\n",
      "F1 Score: 0.4407701352145797\n"
     ]
    }
   ],
   "source": [
    "y_pred = model.predict(X_test)\n",
    "accuray = accuracy_score(y_pred, y_test)\n",
    "f1 = f1_score(y_pred, y_test, average=\"weighted\")\n",
    "\n",
    "print(\"Accuracy:\", accuray)\n",
    "print(\"F1 Score:\", f1)"
   ]
  },
  {
   "cell_type": "code",
   "execution_count": 87,
   "id": "5d2b35fb",
   "metadata": {},
   "outputs": [
    {
     "data": {
      "text/plain": [
       "array([[5, 6, 0],\n",
       "       [4, 5, 0],\n",
       "       [1, 4, 2]])"
      ]
     },
     "execution_count": 87,
     "metadata": {},
     "output_type": "execute_result"
    }
   ],
   "source": [
    "cm = confusion_matrix(y_test, y_pred)\n",
    "cm"
   ]
  }
 ],
 "metadata": {
  "kernelspec": {
   "display_name": "Python 3 (ipykernel)",
   "language": "python",
   "name": "python3"
  },
  "language_info": {
   "codemirror_mode": {
    "name": "ipython",
    "version": 3
   },
   "file_extension": ".py",
   "mimetype": "text/x-python",
   "name": "python",
   "nbconvert_exporter": "python",
   "pygments_lexer": "ipython3",
   "version": "3.10.6"
  }
 },
 "nbformat": 4,
 "nbformat_minor": 5
}
