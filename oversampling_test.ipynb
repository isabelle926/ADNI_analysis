{
 "cells": [
  {
   "cell_type": "markdown",
   "id": "5cbd6afd",
   "metadata": {},
   "source": [
    "# bSMOTE"
   ]
  },
  {
   "cell_type": "markdown",
   "id": "602f7565",
   "metadata": {},
   "source": [
    "## Borderline-1"
   ]
  },
  {
   "cell_type": "code",
   "execution_count": 1,
   "id": "0181bf10",
   "metadata": {},
   "outputs": [
    {
     "data": {
      "text/html": [
       "<div>\n",
       "<style scoped>\n",
       "    .dataframe tbody tr th:only-of-type {\n",
       "        vertical-align: middle;\n",
       "    }\n",
       "\n",
       "    .dataframe tbody tr th {\n",
       "        vertical-align: top;\n",
       "    }\n",
       "\n",
       "    .dataframe thead th {\n",
       "        text-align: right;\n",
       "    }\n",
       "</style>\n",
       "<table border=\"1\" class=\"dataframe\">\n",
       "  <thead>\n",
       "    <tr style=\"text-align: right;\">\n",
       "      <th></th>\n",
       "      <th>AD_MCP</th>\n",
       "      <th>AD_PCT</th>\n",
       "      <th>AD_GCC</th>\n",
       "      <th>AD_BCC</th>\n",
       "      <th>AD_SCC</th>\n",
       "      <th>AD_FX</th>\n",
       "      <th>AD_CST_R</th>\n",
       "      <th>AD_CST_L</th>\n",
       "      <th>AD_ML_R</th>\n",
       "      <th>AD_ML_L</th>\n",
       "      <th>...</th>\n",
       "      <th>RD_FXST</th>\n",
       "      <th>RD_SLF</th>\n",
       "      <th>RD_SFO</th>\n",
       "      <th>RD_UNC</th>\n",
       "      <th>RD_TAP</th>\n",
       "      <th>RD_IC</th>\n",
       "      <th>RD_CC</th>\n",
       "      <th>RD_CR</th>\n",
       "      <th>RD_FULLWM</th>\n",
       "      <th>Research Group</th>\n",
       "    </tr>\n",
       "  </thead>\n",
       "  <tbody>\n",
       "    <tr>\n",
       "      <th>0</th>\n",
       "      <td>0.001177</td>\n",
       "      <td>0.000974</td>\n",
       "      <td>0.001479</td>\n",
       "      <td>0.001474</td>\n",
       "      <td>0.001575</td>\n",
       "      <td>0.002257</td>\n",
       "      <td>0.001079</td>\n",
       "      <td>0.001081</td>\n",
       "      <td>0.001285</td>\n",
       "      <td>0.001287</td>\n",
       "      <td>...</td>\n",
       "      <td>0.000662</td>\n",
       "      <td>0.000577</td>\n",
       "      <td>0.000551</td>\n",
       "      <td>0.000600</td>\n",
       "      <td>0.001139</td>\n",
       "      <td>0.000491</td>\n",
       "      <td>0.000562</td>\n",
       "      <td>0.000638</td>\n",
       "      <td>0.000571</td>\n",
       "      <td>CN</td>\n",
       "    </tr>\n",
       "    <tr>\n",
       "      <th>2</th>\n",
       "      <td>0.001213</td>\n",
       "      <td>0.001075</td>\n",
       "      <td>0.001567</td>\n",
       "      <td>0.001585</td>\n",
       "      <td>0.001686</td>\n",
       "      <td>0.002492</td>\n",
       "      <td>0.001046</td>\n",
       "      <td>0.001056</td>\n",
       "      <td>0.001149</td>\n",
       "      <td>0.001126</td>\n",
       "      <td>...</td>\n",
       "      <td>0.000769</td>\n",
       "      <td>0.000694</td>\n",
       "      <td>0.000902</td>\n",
       "      <td>0.000717</td>\n",
       "      <td>0.001507</td>\n",
       "      <td>0.000626</td>\n",
       "      <td>0.000701</td>\n",
       "      <td>0.000851</td>\n",
       "      <td>0.000723</td>\n",
       "      <td>CN</td>\n",
       "    </tr>\n",
       "    <tr>\n",
       "      <th>3</th>\n",
       "      <td>0.001101</td>\n",
       "      <td>0.000965</td>\n",
       "      <td>0.001440</td>\n",
       "      <td>0.001433</td>\n",
       "      <td>0.001456</td>\n",
       "      <td>0.002379</td>\n",
       "      <td>0.000985</td>\n",
       "      <td>0.000990</td>\n",
       "      <td>0.001118</td>\n",
       "      <td>0.001113</td>\n",
       "      <td>...</td>\n",
       "      <td>0.000614</td>\n",
       "      <td>0.000546</td>\n",
       "      <td>0.000562</td>\n",
       "      <td>0.000553</td>\n",
       "      <td>0.000950</td>\n",
       "      <td>0.000448</td>\n",
       "      <td>0.000512</td>\n",
       "      <td>0.000587</td>\n",
       "      <td>0.000531</td>\n",
       "      <td>CN</td>\n",
       "    </tr>\n",
       "    <tr>\n",
       "      <th>4</th>\n",
       "      <td>0.001053</td>\n",
       "      <td>0.000904</td>\n",
       "      <td>0.001433</td>\n",
       "      <td>0.001470</td>\n",
       "      <td>0.001450</td>\n",
       "      <td>0.002421</td>\n",
       "      <td>0.000966</td>\n",
       "      <td>0.000977</td>\n",
       "      <td>0.001047</td>\n",
       "      <td>0.001041</td>\n",
       "      <td>...</td>\n",
       "      <td>0.000607</td>\n",
       "      <td>0.000535</td>\n",
       "      <td>0.000551</td>\n",
       "      <td>0.000530</td>\n",
       "      <td>0.000862</td>\n",
       "      <td>0.000437</td>\n",
       "      <td>0.000509</td>\n",
       "      <td>0.000573</td>\n",
       "      <td>0.000522</td>\n",
       "      <td>CN</td>\n",
       "    </tr>\n",
       "    <tr>\n",
       "      <th>5</th>\n",
       "      <td>0.001131</td>\n",
       "      <td>0.000974</td>\n",
       "      <td>0.001469</td>\n",
       "      <td>0.001498</td>\n",
       "      <td>0.001531</td>\n",
       "      <td>0.002291</td>\n",
       "      <td>0.000994</td>\n",
       "      <td>0.001017</td>\n",
       "      <td>0.001128</td>\n",
       "      <td>0.001105</td>\n",
       "      <td>...</td>\n",
       "      <td>0.000621</td>\n",
       "      <td>0.000559</td>\n",
       "      <td>0.000586</td>\n",
       "      <td>0.000558</td>\n",
       "      <td>0.000901</td>\n",
       "      <td>0.000458</td>\n",
       "      <td>0.000527</td>\n",
       "      <td>0.000605</td>\n",
       "      <td>0.000545</td>\n",
       "      <td>CN</td>\n",
       "    </tr>\n",
       "    <tr>\n",
       "      <th>...</th>\n",
       "      <td>...</td>\n",
       "      <td>...</td>\n",
       "      <td>...</td>\n",
       "      <td>...</td>\n",
       "      <td>...</td>\n",
       "      <td>...</td>\n",
       "      <td>...</td>\n",
       "      <td>...</td>\n",
       "      <td>...</td>\n",
       "      <td>...</td>\n",
       "      <td>...</td>\n",
       "      <td>...</td>\n",
       "      <td>...</td>\n",
       "      <td>...</td>\n",
       "      <td>...</td>\n",
       "      <td>...</td>\n",
       "      <td>...</td>\n",
       "      <td>...</td>\n",
       "      <td>...</td>\n",
       "      <td>...</td>\n",
       "      <td>...</td>\n",
       "    </tr>\n",
       "    <tr>\n",
       "      <th>963</th>\n",
       "      <td>0.001117</td>\n",
       "      <td>0.001011</td>\n",
       "      <td>0.001574</td>\n",
       "      <td>0.001646</td>\n",
       "      <td>0.001712</td>\n",
       "      <td>0.002214</td>\n",
       "      <td>0.001094</td>\n",
       "      <td>0.001118</td>\n",
       "      <td>0.001228</td>\n",
       "      <td>0.001248</td>\n",
       "      <td>...</td>\n",
       "      <td>0.000734</td>\n",
       "      <td>0.000647</td>\n",
       "      <td>0.000913</td>\n",
       "      <td>0.000599</td>\n",
       "      <td>0.001623</td>\n",
       "      <td>0.000538</td>\n",
       "      <td>0.000680</td>\n",
       "      <td>0.000744</td>\n",
       "      <td>0.000652</td>\n",
       "      <td>AD</td>\n",
       "    </tr>\n",
       "    <tr>\n",
       "      <th>964</th>\n",
       "      <td>0.001181</td>\n",
       "      <td>0.001002</td>\n",
       "      <td>0.001423</td>\n",
       "      <td>0.001505</td>\n",
       "      <td>0.001530</td>\n",
       "      <td>0.002266</td>\n",
       "      <td>0.001088</td>\n",
       "      <td>0.001103</td>\n",
       "      <td>0.001224</td>\n",
       "      <td>0.001203</td>\n",
       "      <td>...</td>\n",
       "      <td>0.000584</td>\n",
       "      <td>0.000593</td>\n",
       "      <td>0.000624</td>\n",
       "      <td>0.000619</td>\n",
       "      <td>0.000878</td>\n",
       "      <td>0.000487</td>\n",
       "      <td>0.000567</td>\n",
       "      <td>0.000618</td>\n",
       "      <td>0.000571</td>\n",
       "      <td>CN</td>\n",
       "    </tr>\n",
       "    <tr>\n",
       "      <th>965</th>\n",
       "      <td>0.001126</td>\n",
       "      <td>0.000949</td>\n",
       "      <td>0.001542</td>\n",
       "      <td>0.001747</td>\n",
       "      <td>0.001642</td>\n",
       "      <td>0.002565</td>\n",
       "      <td>0.000978</td>\n",
       "      <td>0.001052</td>\n",
       "      <td>0.001162</td>\n",
       "      <td>0.001190</td>\n",
       "      <td>...</td>\n",
       "      <td>0.000577</td>\n",
       "      <td>0.000589</td>\n",
       "      <td>0.000835</td>\n",
       "      <td>0.000534</td>\n",
       "      <td>0.001478</td>\n",
       "      <td>0.000440</td>\n",
       "      <td>0.000694</td>\n",
       "      <td>0.000659</td>\n",
       "      <td>0.000597</td>\n",
       "      <td>AD</td>\n",
       "    </tr>\n",
       "    <tr>\n",
       "      <th>966</th>\n",
       "      <td>0.001090</td>\n",
       "      <td>0.000976</td>\n",
       "      <td>0.001354</td>\n",
       "      <td>0.001421</td>\n",
       "      <td>0.001427</td>\n",
       "      <td>0.001928</td>\n",
       "      <td>0.001018</td>\n",
       "      <td>0.001007</td>\n",
       "      <td>0.001241</td>\n",
       "      <td>0.001188</td>\n",
       "      <td>...</td>\n",
       "      <td>0.000560</td>\n",
       "      <td>0.000517</td>\n",
       "      <td>0.000514</td>\n",
       "      <td>0.000566</td>\n",
       "      <td>0.000729</td>\n",
       "      <td>0.000441</td>\n",
       "      <td>0.000469</td>\n",
       "      <td>0.000534</td>\n",
       "      <td>0.000509</td>\n",
       "      <td>CN</td>\n",
       "    </tr>\n",
       "    <tr>\n",
       "      <th>967</th>\n",
       "      <td>0.001097</td>\n",
       "      <td>0.000984</td>\n",
       "      <td>0.001477</td>\n",
       "      <td>0.001419</td>\n",
       "      <td>0.001502</td>\n",
       "      <td>0.002556</td>\n",
       "      <td>0.001063</td>\n",
       "      <td>0.001147</td>\n",
       "      <td>0.001268</td>\n",
       "      <td>0.001199</td>\n",
       "      <td>...</td>\n",
       "      <td>0.000601</td>\n",
       "      <td>0.000537</td>\n",
       "      <td>0.000766</td>\n",
       "      <td>0.000605</td>\n",
       "      <td>0.001115</td>\n",
       "      <td>0.000446</td>\n",
       "      <td>0.000598</td>\n",
       "      <td>0.000608</td>\n",
       "      <td>0.000556</td>\n",
       "      <td>MCI</td>\n",
       "    </tr>\n",
       "  </tbody>\n",
       "</table>\n",
       "<p>933 rows × 293 columns</p>\n",
       "</div>"
      ],
      "text/plain": [
       "       AD_MCP    AD_PCT    AD_GCC    AD_BCC    AD_SCC     AD_FX  AD_CST_R  \\\n",
       "0    0.001177  0.000974  0.001479  0.001474  0.001575  0.002257  0.001079   \n",
       "2    0.001213  0.001075  0.001567  0.001585  0.001686  0.002492  0.001046   \n",
       "3    0.001101  0.000965  0.001440  0.001433  0.001456  0.002379  0.000985   \n",
       "4    0.001053  0.000904  0.001433  0.001470  0.001450  0.002421  0.000966   \n",
       "5    0.001131  0.000974  0.001469  0.001498  0.001531  0.002291  0.000994   \n",
       "..        ...       ...       ...       ...       ...       ...       ...   \n",
       "963  0.001117  0.001011  0.001574  0.001646  0.001712  0.002214  0.001094   \n",
       "964  0.001181  0.001002  0.001423  0.001505  0.001530  0.002266  0.001088   \n",
       "965  0.001126  0.000949  0.001542  0.001747  0.001642  0.002565  0.000978   \n",
       "966  0.001090  0.000976  0.001354  0.001421  0.001427  0.001928  0.001018   \n",
       "967  0.001097  0.000984  0.001477  0.001419  0.001502  0.002556  0.001063   \n",
       "\n",
       "     AD_CST_L   AD_ML_R   AD_ML_L  ...   RD_FXST    RD_SLF    RD_SFO  \\\n",
       "0    0.001081  0.001285  0.001287  ...  0.000662  0.000577  0.000551   \n",
       "2    0.001056  0.001149  0.001126  ...  0.000769  0.000694  0.000902   \n",
       "3    0.000990  0.001118  0.001113  ...  0.000614  0.000546  0.000562   \n",
       "4    0.000977  0.001047  0.001041  ...  0.000607  0.000535  0.000551   \n",
       "5    0.001017  0.001128  0.001105  ...  0.000621  0.000559  0.000586   \n",
       "..        ...       ...       ...  ...       ...       ...       ...   \n",
       "963  0.001118  0.001228  0.001248  ...  0.000734  0.000647  0.000913   \n",
       "964  0.001103  0.001224  0.001203  ...  0.000584  0.000593  0.000624   \n",
       "965  0.001052  0.001162  0.001190  ...  0.000577  0.000589  0.000835   \n",
       "966  0.001007  0.001241  0.001188  ...  0.000560  0.000517  0.000514   \n",
       "967  0.001147  0.001268  0.001199  ...  0.000601  0.000537  0.000766   \n",
       "\n",
       "       RD_UNC    RD_TAP     RD_IC     RD_CC     RD_CR  RD_FULLWM  \\\n",
       "0    0.000600  0.001139  0.000491  0.000562  0.000638   0.000571   \n",
       "2    0.000717  0.001507  0.000626  0.000701  0.000851   0.000723   \n",
       "3    0.000553  0.000950  0.000448  0.000512  0.000587   0.000531   \n",
       "4    0.000530  0.000862  0.000437  0.000509  0.000573   0.000522   \n",
       "5    0.000558  0.000901  0.000458  0.000527  0.000605   0.000545   \n",
       "..        ...       ...       ...       ...       ...        ...   \n",
       "963  0.000599  0.001623  0.000538  0.000680  0.000744   0.000652   \n",
       "964  0.000619  0.000878  0.000487  0.000567  0.000618   0.000571   \n",
       "965  0.000534  0.001478  0.000440  0.000694  0.000659   0.000597   \n",
       "966  0.000566  0.000729  0.000441  0.000469  0.000534   0.000509   \n",
       "967  0.000605  0.001115  0.000446  0.000598  0.000608   0.000556   \n",
       "\n",
       "     Research Group  \n",
       "0                CN  \n",
       "2                CN  \n",
       "3                CN  \n",
       "4                CN  \n",
       "5                CN  \n",
       "..              ...  \n",
       "963              AD  \n",
       "964              CN  \n",
       "965              AD  \n",
       "966              CN  \n",
       "967             MCI  \n",
       "\n",
       "[933 rows x 293 columns]"
      ]
     },
     "execution_count": 1,
     "metadata": {},
     "output_type": "execute_result"
    }
   ],
   "source": [
    "import pandas as pd\n",
    "import numpy as np\n",
    "import matplotlib.pyplot as plt\n",
    "\n",
    "df = pd.read_csv('DTI_with_group.csv')\n",
    "# remove unnecessary columns + confounding\n",
    "df = df.drop(['IMAGEUID', 'COLPROT', 'RID', 'VISCODE', \n",
    "                          'VISCODE2', 'EXAMDATE', 'VERSION', 'MANUFACTURER',\n",
    "                         'RUNDATE', 'STATUS', 'QC', 'update_stamp', 'Age', 'VOLUMES', 'Sex'], axis=1)\n",
    "# remove rows with empty values\n",
    "df = df.dropna()\n",
    "df"
   ]
  },
  {
   "cell_type": "code",
   "execution_count": 2,
   "id": "5033ae30",
   "metadata": {},
   "outputs": [],
   "source": [
    "from imblearn.over_sampling import BorderlineSMOTE as bSMOTE\n",
    "X = df.iloc[:, df.columns != 'Research Group'].values\n",
    "y = df.iloc[:, -1].values\n",
    "X_resampled, y_resampled = bSMOTE(kind='borderline-1').fit_resample(X, y)"
   ]
  },
  {
   "cell_type": "code",
   "execution_count": 3,
   "id": "56ed4fdb",
   "metadata": {},
   "outputs": [],
   "source": [
    "from sklearn.model_selection import train_test_split\n",
    "\n",
    "X_train, X_test, y_train, y_test = train_test_split(X_resampled, y_resampled, test_size=0.33, random_state=8)"
   ]
  },
  {
   "cell_type": "code",
   "execution_count": 4,
   "id": "c1b61538",
   "metadata": {},
   "outputs": [
    {
     "name": "stdout",
     "output_type": "stream",
     "text": [
      "Actual Value: MCI\n",
      "Predicted Value: SMC\n"
     ]
    }
   ],
   "source": [
    "from sklearn.naive_bayes import GaussianNB\n",
    "\n",
    "# Build a Gaussian Classifier\n",
    "model = GaussianNB()\n",
    "\n",
    "# Model training\n",
    "model.fit(X_train, y_train)\n",
    "\n",
    "# Predict Output\n",
    "predicted = model.predict([X_test[6]])\n",
    "\n",
    "print(\"Actual Value:\", y_test[6])\n",
    "print(\"Predicted Value:\", predicted[0])"
   ]
  },
  {
   "cell_type": "code",
   "execution_count": 5,
   "id": "11223eee",
   "metadata": {},
   "outputs": [
    {
     "name": "stdout",
     "output_type": "stream",
     "text": [
      "Accuracy: 0.36205128205128206\n",
      "F1 Score: 0.4000810627247669\n"
     ]
    }
   ],
   "source": [
    "from sklearn.metrics import (\n",
    "    accuracy_score,\n",
    "    confusion_matrix,\n",
    "    ConfusionMatrixDisplay,\n",
    "    f1_score,\n",
    ")\n",
    "\n",
    "y_pred = model.predict(X_test)\n",
    "accuray = accuracy_score(y_pred, y_test)\n",
    "f1 = f1_score(y_pred, y_test, average=\"weighted\")\n",
    "\n",
    "print(\"Accuracy:\", accuray)\n",
    "print(\"F1 Score:\", f1)"
   ]
  },
  {
   "cell_type": "code",
   "execution_count": 6,
   "id": "773f3307",
   "metadata": {},
   "outputs": [
    {
     "data": {
      "text/plain": [
       "array([[102,   4,   0,   6,   2,  36],\n",
       "       [ 23,  41,  24,  13,   7,  52],\n",
       "       [ 50,  24,  25,  10,   0,  48],\n",
       "       [ 31,  10,   0,  42,   6,  78],\n",
       "       [ 29,  22,  16,  11,  18,  75],\n",
       "       [ 10,   4,  10,  17,   4, 125]])"
      ]
     },
     "execution_count": 6,
     "metadata": {},
     "output_type": "execute_result"
    }
   ],
   "source": [
    "cm = confusion_matrix(y_test, y_pred)\n",
    "cm"
   ]
  },
  {
   "cell_type": "markdown",
   "id": "cc09abab",
   "metadata": {},
   "source": [
    "### Combined MCI groups"
   ]
  },
  {
   "cell_type": "code",
   "execution_count": 7,
   "id": "333c537b",
   "metadata": {},
   "outputs": [
    {
     "data": {
      "text/html": [
       "<div>\n",
       "<style scoped>\n",
       "    .dataframe tbody tr th:only-of-type {\n",
       "        vertical-align: middle;\n",
       "    }\n",
       "\n",
       "    .dataframe tbody tr th {\n",
       "        vertical-align: top;\n",
       "    }\n",
       "\n",
       "    .dataframe thead th {\n",
       "        text-align: right;\n",
       "    }\n",
       "</style>\n",
       "<table border=\"1\" class=\"dataframe\">\n",
       "  <thead>\n",
       "    <tr style=\"text-align: right;\">\n",
       "      <th></th>\n",
       "      <th>AD_MCP</th>\n",
       "      <th>AD_PCT</th>\n",
       "      <th>AD_GCC</th>\n",
       "      <th>AD_BCC</th>\n",
       "      <th>AD_SCC</th>\n",
       "      <th>AD_FX</th>\n",
       "      <th>AD_CST_R</th>\n",
       "      <th>AD_CST_L</th>\n",
       "      <th>AD_ML_R</th>\n",
       "      <th>AD_ML_L</th>\n",
       "      <th>...</th>\n",
       "      <th>RD_FXST</th>\n",
       "      <th>RD_SLF</th>\n",
       "      <th>RD_SFO</th>\n",
       "      <th>RD_UNC</th>\n",
       "      <th>RD_TAP</th>\n",
       "      <th>RD_IC</th>\n",
       "      <th>RD_CC</th>\n",
       "      <th>RD_CR</th>\n",
       "      <th>RD_FULLWM</th>\n",
       "      <th>Research Group</th>\n",
       "    </tr>\n",
       "  </thead>\n",
       "  <tbody>\n",
       "    <tr>\n",
       "      <th>0</th>\n",
       "      <td>0.001177</td>\n",
       "      <td>0.000974</td>\n",
       "      <td>0.001479</td>\n",
       "      <td>0.001474</td>\n",
       "      <td>0.001575</td>\n",
       "      <td>0.002257</td>\n",
       "      <td>0.001079</td>\n",
       "      <td>0.001081</td>\n",
       "      <td>0.001285</td>\n",
       "      <td>0.001287</td>\n",
       "      <td>...</td>\n",
       "      <td>0.000662</td>\n",
       "      <td>0.000577</td>\n",
       "      <td>0.000551</td>\n",
       "      <td>0.000600</td>\n",
       "      <td>0.001139</td>\n",
       "      <td>0.000491</td>\n",
       "      <td>0.000562</td>\n",
       "      <td>0.000638</td>\n",
       "      <td>0.000571</td>\n",
       "      <td>CN</td>\n",
       "    </tr>\n",
       "    <tr>\n",
       "      <th>2</th>\n",
       "      <td>0.001213</td>\n",
       "      <td>0.001075</td>\n",
       "      <td>0.001567</td>\n",
       "      <td>0.001585</td>\n",
       "      <td>0.001686</td>\n",
       "      <td>0.002492</td>\n",
       "      <td>0.001046</td>\n",
       "      <td>0.001056</td>\n",
       "      <td>0.001149</td>\n",
       "      <td>0.001126</td>\n",
       "      <td>...</td>\n",
       "      <td>0.000769</td>\n",
       "      <td>0.000694</td>\n",
       "      <td>0.000902</td>\n",
       "      <td>0.000717</td>\n",
       "      <td>0.001507</td>\n",
       "      <td>0.000626</td>\n",
       "      <td>0.000701</td>\n",
       "      <td>0.000851</td>\n",
       "      <td>0.000723</td>\n",
       "      <td>CN</td>\n",
       "    </tr>\n",
       "    <tr>\n",
       "      <th>3</th>\n",
       "      <td>0.001101</td>\n",
       "      <td>0.000965</td>\n",
       "      <td>0.001440</td>\n",
       "      <td>0.001433</td>\n",
       "      <td>0.001456</td>\n",
       "      <td>0.002379</td>\n",
       "      <td>0.000985</td>\n",
       "      <td>0.000990</td>\n",
       "      <td>0.001118</td>\n",
       "      <td>0.001113</td>\n",
       "      <td>...</td>\n",
       "      <td>0.000614</td>\n",
       "      <td>0.000546</td>\n",
       "      <td>0.000562</td>\n",
       "      <td>0.000553</td>\n",
       "      <td>0.000950</td>\n",
       "      <td>0.000448</td>\n",
       "      <td>0.000512</td>\n",
       "      <td>0.000587</td>\n",
       "      <td>0.000531</td>\n",
       "      <td>CN</td>\n",
       "    </tr>\n",
       "    <tr>\n",
       "      <th>4</th>\n",
       "      <td>0.001053</td>\n",
       "      <td>0.000904</td>\n",
       "      <td>0.001433</td>\n",
       "      <td>0.001470</td>\n",
       "      <td>0.001450</td>\n",
       "      <td>0.002421</td>\n",
       "      <td>0.000966</td>\n",
       "      <td>0.000977</td>\n",
       "      <td>0.001047</td>\n",
       "      <td>0.001041</td>\n",
       "      <td>...</td>\n",
       "      <td>0.000607</td>\n",
       "      <td>0.000535</td>\n",
       "      <td>0.000551</td>\n",
       "      <td>0.000530</td>\n",
       "      <td>0.000862</td>\n",
       "      <td>0.000437</td>\n",
       "      <td>0.000509</td>\n",
       "      <td>0.000573</td>\n",
       "      <td>0.000522</td>\n",
       "      <td>CN</td>\n",
       "    </tr>\n",
       "    <tr>\n",
       "      <th>5</th>\n",
       "      <td>0.001131</td>\n",
       "      <td>0.000974</td>\n",
       "      <td>0.001469</td>\n",
       "      <td>0.001498</td>\n",
       "      <td>0.001531</td>\n",
       "      <td>0.002291</td>\n",
       "      <td>0.000994</td>\n",
       "      <td>0.001017</td>\n",
       "      <td>0.001128</td>\n",
       "      <td>0.001105</td>\n",
       "      <td>...</td>\n",
       "      <td>0.000621</td>\n",
       "      <td>0.000559</td>\n",
       "      <td>0.000586</td>\n",
       "      <td>0.000558</td>\n",
       "      <td>0.000901</td>\n",
       "      <td>0.000458</td>\n",
       "      <td>0.000527</td>\n",
       "      <td>0.000605</td>\n",
       "      <td>0.000545</td>\n",
       "      <td>CN</td>\n",
       "    </tr>\n",
       "    <tr>\n",
       "      <th>...</th>\n",
       "      <td>...</td>\n",
       "      <td>...</td>\n",
       "      <td>...</td>\n",
       "      <td>...</td>\n",
       "      <td>...</td>\n",
       "      <td>...</td>\n",
       "      <td>...</td>\n",
       "      <td>...</td>\n",
       "      <td>...</td>\n",
       "      <td>...</td>\n",
       "      <td>...</td>\n",
       "      <td>...</td>\n",
       "      <td>...</td>\n",
       "      <td>...</td>\n",
       "      <td>...</td>\n",
       "      <td>...</td>\n",
       "      <td>...</td>\n",
       "      <td>...</td>\n",
       "      <td>...</td>\n",
       "      <td>...</td>\n",
       "      <td>...</td>\n",
       "    </tr>\n",
       "    <tr>\n",
       "      <th>963</th>\n",
       "      <td>0.001117</td>\n",
       "      <td>0.001011</td>\n",
       "      <td>0.001574</td>\n",
       "      <td>0.001646</td>\n",
       "      <td>0.001712</td>\n",
       "      <td>0.002214</td>\n",
       "      <td>0.001094</td>\n",
       "      <td>0.001118</td>\n",
       "      <td>0.001228</td>\n",
       "      <td>0.001248</td>\n",
       "      <td>...</td>\n",
       "      <td>0.000734</td>\n",
       "      <td>0.000647</td>\n",
       "      <td>0.000913</td>\n",
       "      <td>0.000599</td>\n",
       "      <td>0.001623</td>\n",
       "      <td>0.000538</td>\n",
       "      <td>0.000680</td>\n",
       "      <td>0.000744</td>\n",
       "      <td>0.000652</td>\n",
       "      <td>AD</td>\n",
       "    </tr>\n",
       "    <tr>\n",
       "      <th>964</th>\n",
       "      <td>0.001181</td>\n",
       "      <td>0.001002</td>\n",
       "      <td>0.001423</td>\n",
       "      <td>0.001505</td>\n",
       "      <td>0.001530</td>\n",
       "      <td>0.002266</td>\n",
       "      <td>0.001088</td>\n",
       "      <td>0.001103</td>\n",
       "      <td>0.001224</td>\n",
       "      <td>0.001203</td>\n",
       "      <td>...</td>\n",
       "      <td>0.000584</td>\n",
       "      <td>0.000593</td>\n",
       "      <td>0.000624</td>\n",
       "      <td>0.000619</td>\n",
       "      <td>0.000878</td>\n",
       "      <td>0.000487</td>\n",
       "      <td>0.000567</td>\n",
       "      <td>0.000618</td>\n",
       "      <td>0.000571</td>\n",
       "      <td>CN</td>\n",
       "    </tr>\n",
       "    <tr>\n",
       "      <th>965</th>\n",
       "      <td>0.001126</td>\n",
       "      <td>0.000949</td>\n",
       "      <td>0.001542</td>\n",
       "      <td>0.001747</td>\n",
       "      <td>0.001642</td>\n",
       "      <td>0.002565</td>\n",
       "      <td>0.000978</td>\n",
       "      <td>0.001052</td>\n",
       "      <td>0.001162</td>\n",
       "      <td>0.001190</td>\n",
       "      <td>...</td>\n",
       "      <td>0.000577</td>\n",
       "      <td>0.000589</td>\n",
       "      <td>0.000835</td>\n",
       "      <td>0.000534</td>\n",
       "      <td>0.001478</td>\n",
       "      <td>0.000440</td>\n",
       "      <td>0.000694</td>\n",
       "      <td>0.000659</td>\n",
       "      <td>0.000597</td>\n",
       "      <td>AD</td>\n",
       "    </tr>\n",
       "    <tr>\n",
       "      <th>966</th>\n",
       "      <td>0.001090</td>\n",
       "      <td>0.000976</td>\n",
       "      <td>0.001354</td>\n",
       "      <td>0.001421</td>\n",
       "      <td>0.001427</td>\n",
       "      <td>0.001928</td>\n",
       "      <td>0.001018</td>\n",
       "      <td>0.001007</td>\n",
       "      <td>0.001241</td>\n",
       "      <td>0.001188</td>\n",
       "      <td>...</td>\n",
       "      <td>0.000560</td>\n",
       "      <td>0.000517</td>\n",
       "      <td>0.000514</td>\n",
       "      <td>0.000566</td>\n",
       "      <td>0.000729</td>\n",
       "      <td>0.000441</td>\n",
       "      <td>0.000469</td>\n",
       "      <td>0.000534</td>\n",
       "      <td>0.000509</td>\n",
       "      <td>CN</td>\n",
       "    </tr>\n",
       "    <tr>\n",
       "      <th>967</th>\n",
       "      <td>0.001097</td>\n",
       "      <td>0.000984</td>\n",
       "      <td>0.001477</td>\n",
       "      <td>0.001419</td>\n",
       "      <td>0.001502</td>\n",
       "      <td>0.002556</td>\n",
       "      <td>0.001063</td>\n",
       "      <td>0.001147</td>\n",
       "      <td>0.001268</td>\n",
       "      <td>0.001199</td>\n",
       "      <td>...</td>\n",
       "      <td>0.000601</td>\n",
       "      <td>0.000537</td>\n",
       "      <td>0.000766</td>\n",
       "      <td>0.000605</td>\n",
       "      <td>0.001115</td>\n",
       "      <td>0.000446</td>\n",
       "      <td>0.000598</td>\n",
       "      <td>0.000608</td>\n",
       "      <td>0.000556</td>\n",
       "      <td>MCI</td>\n",
       "    </tr>\n",
       "  </tbody>\n",
       "</table>\n",
       "<p>933 rows × 293 columns</p>\n",
       "</div>"
      ],
      "text/plain": [
       "       AD_MCP    AD_PCT    AD_GCC    AD_BCC    AD_SCC     AD_FX  AD_CST_R  \\\n",
       "0    0.001177  0.000974  0.001479  0.001474  0.001575  0.002257  0.001079   \n",
       "2    0.001213  0.001075  0.001567  0.001585  0.001686  0.002492  0.001046   \n",
       "3    0.001101  0.000965  0.001440  0.001433  0.001456  0.002379  0.000985   \n",
       "4    0.001053  0.000904  0.001433  0.001470  0.001450  0.002421  0.000966   \n",
       "5    0.001131  0.000974  0.001469  0.001498  0.001531  0.002291  0.000994   \n",
       "..        ...       ...       ...       ...       ...       ...       ...   \n",
       "963  0.001117  0.001011  0.001574  0.001646  0.001712  0.002214  0.001094   \n",
       "964  0.001181  0.001002  0.001423  0.001505  0.001530  0.002266  0.001088   \n",
       "965  0.001126  0.000949  0.001542  0.001747  0.001642  0.002565  0.000978   \n",
       "966  0.001090  0.000976  0.001354  0.001421  0.001427  0.001928  0.001018   \n",
       "967  0.001097  0.000984  0.001477  0.001419  0.001502  0.002556  0.001063   \n",
       "\n",
       "     AD_CST_L   AD_ML_R   AD_ML_L  ...   RD_FXST    RD_SLF    RD_SFO  \\\n",
       "0    0.001081  0.001285  0.001287  ...  0.000662  0.000577  0.000551   \n",
       "2    0.001056  0.001149  0.001126  ...  0.000769  0.000694  0.000902   \n",
       "3    0.000990  0.001118  0.001113  ...  0.000614  0.000546  0.000562   \n",
       "4    0.000977  0.001047  0.001041  ...  0.000607  0.000535  0.000551   \n",
       "5    0.001017  0.001128  0.001105  ...  0.000621  0.000559  0.000586   \n",
       "..        ...       ...       ...  ...       ...       ...       ...   \n",
       "963  0.001118  0.001228  0.001248  ...  0.000734  0.000647  0.000913   \n",
       "964  0.001103  0.001224  0.001203  ...  0.000584  0.000593  0.000624   \n",
       "965  0.001052  0.001162  0.001190  ...  0.000577  0.000589  0.000835   \n",
       "966  0.001007  0.001241  0.001188  ...  0.000560  0.000517  0.000514   \n",
       "967  0.001147  0.001268  0.001199  ...  0.000601  0.000537  0.000766   \n",
       "\n",
       "       RD_UNC    RD_TAP     RD_IC     RD_CC     RD_CR  RD_FULLWM  \\\n",
       "0    0.000600  0.001139  0.000491  0.000562  0.000638   0.000571   \n",
       "2    0.000717  0.001507  0.000626  0.000701  0.000851   0.000723   \n",
       "3    0.000553  0.000950  0.000448  0.000512  0.000587   0.000531   \n",
       "4    0.000530  0.000862  0.000437  0.000509  0.000573   0.000522   \n",
       "5    0.000558  0.000901  0.000458  0.000527  0.000605   0.000545   \n",
       "..        ...       ...       ...       ...       ...        ...   \n",
       "963  0.000599  0.001623  0.000538  0.000680  0.000744   0.000652   \n",
       "964  0.000619  0.000878  0.000487  0.000567  0.000618   0.000571   \n",
       "965  0.000534  0.001478  0.000440  0.000694  0.000659   0.000597   \n",
       "966  0.000566  0.000729  0.000441  0.000469  0.000534   0.000509   \n",
       "967  0.000605  0.001115  0.000446  0.000598  0.000608   0.000556   \n",
       "\n",
       "     Research Group  \n",
       "0                CN  \n",
       "2                CN  \n",
       "3                CN  \n",
       "4                CN  \n",
       "5                CN  \n",
       "..              ...  \n",
       "963              AD  \n",
       "964              CN  \n",
       "965              AD  \n",
       "966              CN  \n",
       "967             MCI  \n",
       "\n",
       "[933 rows x 293 columns]"
      ]
     },
     "execution_count": 7,
     "metadata": {},
     "output_type": "execute_result"
    }
   ],
   "source": [
    "df = pd.read_csv('DTI_with_group_comb.csv')\n",
    "# remove unnecessary columns + confounding\n",
    "df = df.drop(['IMAGEUID', 'COLPROT', 'RID', 'VISCODE', \n",
    "                          'VISCODE2', 'EXAMDATE', 'VERSION', 'MANUFACTURER',\n",
    "                         'RUNDATE', 'STATUS', 'QC', 'update_stamp', 'Age', 'VOLUMES', 'Sex'], axis=1)\n",
    "# remove rows with empty values\n",
    "df = df.dropna()\n",
    "df"
   ]
  },
  {
   "cell_type": "code",
   "execution_count": 8,
   "id": "315c8807",
   "metadata": {},
   "outputs": [],
   "source": [
    "X = df.iloc[:, df.columns != 'Research Group'].values\n",
    "y = df.iloc[:, -1].values\n",
    "X_resampled, y_resampled = bSMOTE(kind='borderline-1').fit_resample(X, y)\n",
    "X_train, X_test, y_train, y_test = train_test_split(X_resampled, y_resampled, test_size=0.33, random_state=8)"
   ]
  },
  {
   "cell_type": "code",
   "execution_count": 9,
   "id": "30b23202",
   "metadata": {},
   "outputs": [
    {
     "name": "stdout",
     "output_type": "stream",
     "text": [
      "Actual Value: AD\n",
      "Predicted Value: AD\n"
     ]
    }
   ],
   "source": [
    "model = GaussianNB()\n",
    "\n",
    "# Model training\n",
    "model.fit(X_train, y_train)\n",
    "\n",
    "# Predict Output\n",
    "predicted = model.predict([X_test[6]])\n",
    "\n",
    "print(\"Actual Value:\", y_test[6])\n",
    "print(\"Predicted Value:\", predicted[0])"
   ]
  },
  {
   "cell_type": "code",
   "execution_count": 10,
   "id": "89d160b6",
   "metadata": {},
   "outputs": [
    {
     "name": "stdout",
     "output_type": "stream",
     "text": [
      "Accuracy: 0.5610200364298725\n",
      "F1 Score: 0.6000493907478462\n"
     ]
    }
   ],
   "source": [
    "y_pred = model.predict(X_test)\n",
    "accuray = accuracy_score(y_pred, y_test)\n",
    "f1 = f1_score(y_pred, y_test, average=\"weighted\")\n",
    "\n",
    "print(\"Accuracy:\", accuray)\n",
    "print(\"F1 Score:\", f1)"
   ]
  },
  {
   "cell_type": "code",
   "execution_count": 11,
   "id": "bb2036e8",
   "metadata": {},
   "outputs": [
    {
     "data": {
      "text/plain": [
       "array([[162,  31,   2],\n",
       "       [ 32, 116,  30],\n",
       "       [ 48,  98,  30]])"
      ]
     },
     "execution_count": 11,
     "metadata": {},
     "output_type": "execute_result"
    }
   ],
   "source": [
    "cm = confusion_matrix(y_test, y_pred)\n",
    "cm"
   ]
  },
  {
   "cell_type": "markdown",
   "id": "e22eaf59",
   "metadata": {},
   "source": [
    "## Borderline-2"
   ]
  },
  {
   "cell_type": "code",
   "execution_count": 12,
   "id": "d54f6c73",
   "metadata": {},
   "outputs": [],
   "source": [
    "df = pd.read_csv('DTI_with_group.csv')\n",
    "# remove unnecessary columns + confounding\n",
    "df = df.drop(['IMAGEUID', 'COLPROT', 'RID', 'VISCODE', \n",
    "                          'VISCODE2', 'EXAMDATE', 'VERSION', 'MANUFACTURER',\n",
    "                         'RUNDATE', 'STATUS', 'QC', 'update_stamp', 'Age', 'VOLUMES', 'Sex'], axis=1)\n",
    "# remove rows with empty values\n",
    "df = df.dropna()"
   ]
  },
  {
   "cell_type": "code",
   "execution_count": 13,
   "id": "427ee93b",
   "metadata": {},
   "outputs": [],
   "source": [
    "X = df.iloc[:, df.columns != 'Research Group'].values\n",
    "y = df.iloc[:, -1].values\n",
    "X_resampled, y_resampled = bSMOTE(kind='borderline-2').fit_resample(X, y)\n",
    "X_train, X_test, y_train, y_test = train_test_split(X_resampled, y_resampled, test_size=0.33, random_state=10)"
   ]
  },
  {
   "cell_type": "code",
   "execution_count": 14,
   "id": "0da053a8",
   "metadata": {},
   "outputs": [
    {
     "name": "stdout",
     "output_type": "stream",
     "text": [
      "Actual Value: CN\n",
      "Predicted Value: EMCI\n"
     ]
    }
   ],
   "source": [
    "model = GaussianNB()\n",
    "\n",
    "# Model training\n",
    "model.fit(X_train, y_train)\n",
    "\n",
    "# Predict Output\n",
    "predicted = model.predict([X_test[6]])\n",
    "\n",
    "print(\"Actual Value:\", y_test[6])\n",
    "print(\"Predicted Value:\", predicted[0])"
   ]
  },
  {
   "cell_type": "code",
   "execution_count": 15,
   "id": "282f09a5",
   "metadata": {},
   "outputs": [
    {
     "name": "stdout",
     "output_type": "stream",
     "text": [
      "Accuracy: 0.3726899383983573\n",
      "F1 Score: 0.4061864361995949\n"
     ]
    }
   ],
   "source": [
    "y_pred = model.predict(X_test)\n",
    "accuray = accuracy_score(y_pred, y_test)\n",
    "f1 = f1_score(y_pred, y_test, average=\"weighted\")\n",
    "\n",
    "print(\"Accuracy:\", accuray)\n",
    "print(\"F1 Score:\", f1)"
   ]
  },
  {
   "cell_type": "code",
   "execution_count": 16,
   "id": "0467e381",
   "metadata": {},
   "outputs": [
    {
     "data": {
      "text/plain": [
       "array([[108,   9,  11,  18,   1,  32],\n",
       "       [ 19,  41,  25,  23,   7,  43],\n",
       "       [ 29,  31,  35,  17,   0,  48],\n",
       "       [ 32,  20,   5,  69,   2,  32],\n",
       "       [ 29,  26,  22,  39,   9,  35],\n",
       "       [ 18,  11,  12,  14,   1, 101]])"
      ]
     },
     "execution_count": 16,
     "metadata": {},
     "output_type": "execute_result"
    }
   ],
   "source": [
    "cm = confusion_matrix(y_test, y_pred)\n",
    "cm"
   ]
  },
  {
   "cell_type": "markdown",
   "id": "b6589d04",
   "metadata": {},
   "source": [
    "### Combined MCI groups"
   ]
  },
  {
   "cell_type": "code",
   "execution_count": 17,
   "id": "38b70b26",
   "metadata": {},
   "outputs": [],
   "source": [
    "df = pd.read_csv('DTI_with_group_comb.csv')\n",
    "# remove unnecessary columns + confounding\n",
    "df = df.drop(['IMAGEUID', 'COLPROT', 'RID', 'VISCODE', \n",
    "                          'VISCODE2', 'EXAMDATE', 'VERSION', 'MANUFACTURER',\n",
    "                         'RUNDATE', 'STATUS', 'QC', 'update_stamp', 'Age', 'VOLUMES', 'Sex'], axis=1)\n",
    "# remove rows with empty values\n",
    "df = df.dropna()"
   ]
  },
  {
   "cell_type": "code",
   "execution_count": 18,
   "id": "845877d5",
   "metadata": {},
   "outputs": [],
   "source": [
    "X = df.iloc[:, df.columns != 'Research Group'].values\n",
    "y = df.iloc[:, -1].values\n",
    "X_resampled, y_resampled = bSMOTE(kind='borderline-2').fit_resample(X, y)\n",
    "X_train, X_test, y_train, y_test = train_test_split(X_resampled, y_resampled, test_size=0.33, random_state=10)"
   ]
  },
  {
   "cell_type": "code",
   "execution_count": 19,
   "id": "ab826729",
   "metadata": {},
   "outputs": [
    {
     "name": "stdout",
     "output_type": "stream",
     "text": [
      "Actual Value: AD\n",
      "Predicted Value: AD\n"
     ]
    }
   ],
   "source": [
    "model = GaussianNB()\n",
    "\n",
    "# Model training\n",
    "model.fit(X_train, y_train)\n",
    "\n",
    "# Predict Output\n",
    "predicted = model.predict([X_test[6]])\n",
    "\n",
    "print(\"Actual Value:\", y_test[6])\n",
    "print(\"Predicted Value:\", predicted[0])"
   ]
  },
  {
   "cell_type": "code",
   "execution_count": 20,
   "id": "b5450256",
   "metadata": {},
   "outputs": [
    {
     "name": "stdout",
     "output_type": "stream",
     "text": [
      "Accuracy: 0.5218978102189781\n",
      "F1 Score: 0.5504666143027055\n"
     ]
    }
   ],
   "source": [
    "y_pred = model.predict(X_test)\n",
    "accuray = accuracy_score(y_pred, y_test)\n",
    "f1 = f1_score(y_pred, y_test, average=\"weighted\")\n",
    "\n",
    "print(\"Accuracy:\", accuray)\n",
    "print(\"F1 Score:\", f1)"
   ]
  },
  {
   "cell_type": "code",
   "execution_count": 21,
   "id": "9b63c47e",
   "metadata": {},
   "outputs": [
    {
     "data": {
      "text/plain": [
       "array([[148,  29,   7],\n",
       "       [ 42,  96,  40],\n",
       "       [ 65,  79,  42]])"
      ]
     },
     "execution_count": 21,
     "metadata": {},
     "output_type": "execute_result"
    }
   ],
   "source": [
    "cm = confusion_matrix(y_test, y_pred)\n",
    "cm"
   ]
  },
  {
   "cell_type": "markdown",
   "id": "a1956602",
   "metadata": {},
   "source": [
    "## bSMOTE with SVM"
   ]
  },
  {
   "cell_type": "code",
   "execution_count": 22,
   "id": "d18b4d33",
   "metadata": {},
   "outputs": [],
   "source": [
    "from imblearn.over_sampling import SVMSMOTE\n",
    "df = pd.read_csv('DTI_with_group.csv')\n",
    "# remove unnecessary columns + confounding\n",
    "df = df.drop(['IMAGEUID', 'COLPROT', 'RID', 'VISCODE', \n",
    "                          'VISCODE2', 'EXAMDATE', 'VERSION', 'MANUFACTURER',\n",
    "                         'RUNDATE', 'STATUS', 'QC', 'update_stamp', 'Age', 'VOLUMES', 'Sex'], axis=1)\n",
    "# remove rows with empty values\n",
    "df = df.dropna()"
   ]
  },
  {
   "cell_type": "code",
   "execution_count": 23,
   "id": "817650bc",
   "metadata": {},
   "outputs": [],
   "source": [
    "X = df.iloc[:, df.columns != 'Research Group'].values\n",
    "y = df.iloc[:, -1].values\n",
    "X_resampled, y_resampled = SVMSMOTE().fit_resample(X, y)\n",
    "X_train, X_test, y_train, y_test = train_test_split(X_resampled, y_resampled, test_size=0.33, random_state=22)"
   ]
  },
  {
   "cell_type": "code",
   "execution_count": 24,
   "id": "4fedcd67",
   "metadata": {},
   "outputs": [
    {
     "name": "stdout",
     "output_type": "stream",
     "text": [
      "Actual Value: MCI\n",
      "Predicted Value: LMCI\n"
     ]
    }
   ],
   "source": [
    "model = GaussianNB()\n",
    "\n",
    "# Model training\n",
    "model.fit(X_train, y_train)\n",
    "\n",
    "# Predict Output\n",
    "predicted = model.predict([X_test[6]])\n",
    "\n",
    "print(\"Actual Value:\", y_test[6])\n",
    "print(\"Predicted Value:\", predicted[0])"
   ]
  },
  {
   "cell_type": "code",
   "execution_count": 25,
   "id": "a28b6d3b",
   "metadata": {},
   "outputs": [
    {
     "name": "stdout",
     "output_type": "stream",
     "text": [
      "Accuracy: 0.38591549295774646\n",
      "F1 Score: 0.40004968944974656\n"
     ]
    }
   ],
   "source": [
    "y_pred = model.predict(X_test)\n",
    "accuray = accuracy_score(y_pred, y_test)\n",
    "f1 = f1_score(y_pred, y_test, average=\"weighted\")\n",
    "\n",
    "print(\"Accuracy:\", accuray)\n",
    "print(\"F1 Score:\", f1)"
   ]
  },
  {
   "cell_type": "code",
   "execution_count": 26,
   "id": "fb7e0823",
   "metadata": {},
   "outputs": [
    {
     "data": {
      "text/plain": [
       "array([[73,  0,  3, 14,  1, 10],\n",
       "       [21, 22, 19, 19, 28, 50],\n",
       "       [42,  4, 44,  9, 17, 27],\n",
       "       [12,  5,  3, 28,  4, 17],\n",
       "       [19,  8, 14, 22, 63, 43],\n",
       "       [ 6,  1,  4,  9,  5, 44]])"
      ]
     },
     "execution_count": 26,
     "metadata": {},
     "output_type": "execute_result"
    }
   ],
   "source": [
    "cm = confusion_matrix(y_test, y_pred)\n",
    "cm"
   ]
  },
  {
   "cell_type": "markdown",
   "id": "4608235e",
   "metadata": {},
   "source": [
    "### Combined MCI groups"
   ]
  },
  {
   "cell_type": "code",
   "execution_count": 27,
   "id": "45cb9ca0",
   "metadata": {},
   "outputs": [],
   "source": [
    "df = pd.read_csv('DTI_with_group_comb.csv')\n",
    "# remove unnecessary columns + confounding\n",
    "df = df.drop(['IMAGEUID', 'COLPROT', 'RID', 'VISCODE', \n",
    "                          'VISCODE2', 'EXAMDATE', 'VERSION', 'MANUFACTURER',\n",
    "                         'RUNDATE', 'STATUS', 'QC', 'update_stamp', 'Age', 'VOLUMES', 'Sex'], axis=1)\n",
    "# remove rows with empty values\n",
    "df = df.dropna()"
   ]
  },
  {
   "cell_type": "code",
   "execution_count": 28,
   "id": "29aa83e1",
   "metadata": {},
   "outputs": [],
   "source": [
    "X = df.iloc[:, df.columns != 'Research Group'].values\n",
    "y = df.iloc[:, -1].values\n",
    "X_resampled, y_resampled = SVMSMOTE().fit_resample(X, y)\n",
    "X_train, X_test, y_train, y_test = train_test_split(X_resampled, y_resampled, test_size=0.33, random_state=32)"
   ]
  },
  {
   "cell_type": "code",
   "execution_count": 29,
   "id": "2297a6e2",
   "metadata": {},
   "outputs": [
    {
     "name": "stdout",
     "output_type": "stream",
     "text": [
      "Actual Value: CN\n",
      "Predicted Value: CN\n"
     ]
    }
   ],
   "source": [
    "model = GaussianNB()\n",
    "\n",
    "# Model training\n",
    "model.fit(X_train, y_train)\n",
    "\n",
    "# Predict Output\n",
    "predicted = model.predict([X_test[6]])\n",
    "\n",
    "print(\"Actual Value:\", y_test[6])\n",
    "print(\"Predicted Value:\", predicted[0])"
   ]
  },
  {
   "cell_type": "code",
   "execution_count": 30,
   "id": "3a1232d2",
   "metadata": {},
   "outputs": [
    {
     "name": "stdout",
     "output_type": "stream",
     "text": [
      "Accuracy: 0.5046511627906977\n",
      "F1 Score: 0.5302964477383082\n"
     ]
    }
   ],
   "source": [
    "y_pred = model.predict(X_test)\n",
    "accuray = accuracy_score(y_pred, y_test)\n",
    "f1 = f1_score(y_pred, y_test, average=\"weighted\")\n",
    "\n",
    "print(\"Accuracy:\", accuray)\n",
    "print(\"F1 Score:\", f1)"
   ]
  },
  {
   "cell_type": "code",
   "execution_count": 31,
   "id": "3c8658dc",
   "metadata": {},
   "outputs": [
    {
     "data": {
      "text/plain": [
       "array([[ 58,   5,   2],\n",
       "       [ 28, 109,  37],\n",
       "       [ 52,  89,  50]])"
      ]
     },
     "execution_count": 31,
     "metadata": {},
     "output_type": "execute_result"
    }
   ],
   "source": [
    "cm = confusion_matrix(y_test, y_pred)\n",
    "cm"
   ]
  },
  {
   "cell_type": "markdown",
   "id": "0491ed29",
   "metadata": {},
   "source": [
    "# ADASYN"
   ]
  },
  {
   "cell_type": "code",
   "execution_count": 32,
   "id": "6bebf003",
   "metadata": {},
   "outputs": [],
   "source": [
    "from imblearn.over_sampling import ADASYN\n",
    "df = pd.read_csv('DTI_with_group.csv')\n",
    "# remove unnecessary columns + confounding\n",
    "df = df.drop(['IMAGEUID', 'COLPROT', 'RID', 'VISCODE', \n",
    "                          'VISCODE2', 'EXAMDATE', 'VERSION', 'MANUFACTURER',\n",
    "                         'RUNDATE', 'STATUS', 'QC', 'update_stamp', 'Age', 'VOLUMES', 'Sex'], axis=1)\n",
    "# remove rows with empty values\n",
    "df = df.dropna()"
   ]
  },
  {
   "cell_type": "code",
   "execution_count": 33,
   "id": "a66e51a3",
   "metadata": {},
   "outputs": [],
   "source": [
    "X = df.iloc[:, df.columns != 'Research Group'].values\n",
    "y = df.iloc[:, -1].values\n",
    "X_resampled, y_resampled = ADASYN().fit_resample(X, y)\n",
    "X_train, X_test, y_train, y_test = train_test_split(X_resampled, y_resampled, test_size=0.33, random_state=35)"
   ]
  },
  {
   "cell_type": "code",
   "execution_count": 34,
   "id": "49390aff",
   "metadata": {},
   "outputs": [
    {
     "name": "stdout",
     "output_type": "stream",
     "text": [
      "Actual Value: MCI\n",
      "Predicted Value: EMCI\n"
     ]
    }
   ],
   "source": [
    "model = GaussianNB()\n",
    "\n",
    "# Model training\n",
    "model.fit(X_train, y_train)\n",
    "\n",
    "# Predict Output\n",
    "predicted = model.predict([X_test[6]])\n",
    "\n",
    "print(\"Actual Value:\", y_test[6])\n",
    "print(\"Predicted Value:\", predicted[0])"
   ]
  },
  {
   "cell_type": "code",
   "execution_count": 35,
   "id": "9b3c01db",
   "metadata": {},
   "outputs": [
    {
     "name": "stdout",
     "output_type": "stream",
     "text": [
      "Accuracy: 0.3464249748237664\n",
      "F1 Score: 0.37186013821050745\n"
     ]
    }
   ],
   "source": [
    "y_pred = model.predict(X_test)\n",
    "accuray = accuracy_score(y_pred, y_test)\n",
    "f1 = f1_score(y_pred, y_test, average=\"weighted\")\n",
    "\n",
    "print(\"Accuracy:\", accuray)\n",
    "print(\"F1 Score:\", f1)"
   ]
  },
  {
   "cell_type": "code",
   "execution_count": 36,
   "id": "63f87019",
   "metadata": {},
   "outputs": [
    {
     "data": {
      "text/plain": [
       "array([[ 94,   7,   4,  11,   1,  42],\n",
       "       [ 15,  43,  14,   9,  11,  58],\n",
       "       [ 37,  31,  33,   4,   4,  55],\n",
       "       [ 26,  10,   3,  34,  10,  75],\n",
       "       [ 28,  18,  24,  10,  21,  73],\n",
       "       [ 23,  11,  22,   6,   7, 119]])"
      ]
     },
     "execution_count": 36,
     "metadata": {},
     "output_type": "execute_result"
    }
   ],
   "source": [
    "cm = confusion_matrix(y_test, y_pred)\n",
    "cm"
   ]
  },
  {
   "cell_type": "markdown",
   "id": "761cc1b2",
   "metadata": {},
   "source": [
    "### Combined MCI groups"
   ]
  },
  {
   "cell_type": "code",
   "execution_count": 37,
   "id": "dfe3bbcb",
   "metadata": {},
   "outputs": [],
   "source": [
    "df = pd.read_csv('DTI_with_group_comb.csv')\n",
    "# remove unnecessary columns + confounding\n",
    "df = df.drop(['IMAGEUID', 'COLPROT', 'RID', 'VISCODE', \n",
    "                          'VISCODE2', 'EXAMDATE', 'VERSION', 'MANUFACTURER',\n",
    "                         'RUNDATE', 'STATUS', 'QC', 'update_stamp', 'Age', 'VOLUMES', 'Sex'], axis=1)\n",
    "# remove rows with empty values\n",
    "df = df.dropna()"
   ]
  },
  {
   "cell_type": "code",
   "execution_count": 38,
   "id": "1d47b69e",
   "metadata": {},
   "outputs": [],
   "source": [
    "X = df.iloc[:, df.columns != 'Research Group'].values\n",
    "y = df.iloc[:, -1].values\n",
    "X_resampled, y_resampled = ADASYN().fit_resample(X, y)\n",
    "X_train, X_test, y_train, y_test = train_test_split(X_resampled, y_resampled, test_size=0.33, random_state=43)"
   ]
  },
  {
   "cell_type": "code",
   "execution_count": 39,
   "id": "b9db22bf",
   "metadata": {},
   "outputs": [
    {
     "name": "stdout",
     "output_type": "stream",
     "text": [
      "Actual Value: AD\n",
      "Predicted Value: AD\n"
     ]
    }
   ],
   "source": [
    "model = GaussianNB()\n",
    "\n",
    "# Model training\n",
    "model.fit(X_train, y_train)\n",
    "\n",
    "# Predict Output\n",
    "predicted = model.predict([X_test[6]])\n",
    "\n",
    "print(\"Actual Value:\", y_test[6])\n",
    "print(\"Predicted Value:\", predicted[0])"
   ]
  },
  {
   "cell_type": "code",
   "execution_count": 40,
   "id": "1e67c65f",
   "metadata": {},
   "outputs": [
    {
     "name": "stdout",
     "output_type": "stream",
     "text": [
      "Accuracy: 0.5347985347985348\n",
      "F1 Score: 0.5659469960485128\n"
     ]
    }
   ],
   "source": [
    "y_pred = model.predict(X_test)\n",
    "accuray = accuracy_score(y_pred, y_test)\n",
    "f1 = f1_score(y_pred, y_test, average=\"weighted\")\n",
    "\n",
    "print(\"Accuracy:\", accuray)\n",
    "print(\"F1 Score:\", f1)"
   ]
  },
  {
   "cell_type": "code",
   "execution_count": 41,
   "id": "ae95f60e",
   "metadata": {},
   "outputs": [
    {
     "data": {
      "text/plain": [
       "array([[150,  44,   3],\n",
       "       [ 48, 106,  19],\n",
       "       [ 61,  79,  36]])"
      ]
     },
     "execution_count": 41,
     "metadata": {},
     "output_type": "execute_result"
    }
   ],
   "source": [
    "cm = confusion_matrix(y_test, y_pred)\n",
    "cm"
   ]
  },
  {
   "cell_type": "markdown",
   "id": "cd92f53d",
   "metadata": {},
   "source": [
    "# Random Oversampling"
   ]
  },
  {
   "cell_type": "code",
   "execution_count": 42,
   "id": "2047b3f1",
   "metadata": {},
   "outputs": [],
   "source": [
    "from imblearn.over_sampling import RandomOverSampler\n",
    "oversample = RandomOverSampler(sampling_strategy='minority')\n",
    "df = pd.read_csv('DTI_with_group.csv')\n",
    "# remove unnecessary columns + confounding\n",
    "df = df.drop(['IMAGEUID', 'COLPROT', 'RID', 'VISCODE', \n",
    "                          'VISCODE2', 'EXAMDATE', 'VERSION', 'MANUFACTURER',\n",
    "                         'RUNDATE', 'STATUS', 'QC', 'update_stamp', 'Age', 'VOLUMES', 'Sex'], axis=1)\n",
    "# remove rows with empty values\n",
    "df = df.dropna()"
   ]
  },
  {
   "cell_type": "code",
   "execution_count": 43,
   "id": "ff7e0afb",
   "metadata": {},
   "outputs": [],
   "source": [
    "X = df.iloc[:, df.columns != 'Research Group'].values\n",
    "y = df.iloc[:, -1].values\n",
    "X_resampled, y_resampled = oversample.fit_resample(X, y)\n",
    "X_train, X_test, y_train, y_test = train_test_split(X_resampled, y_resampled, test_size=0.33, random_state=78)"
   ]
  },
  {
   "cell_type": "code",
   "execution_count": 44,
   "id": "e225789b",
   "metadata": {},
   "outputs": [
    {
     "name": "stdout",
     "output_type": "stream",
     "text": [
      "Actual Value: LMCI\n",
      "Predicted Value: AD\n"
     ]
    }
   ],
   "source": [
    "model = GaussianNB()\n",
    "\n",
    "# Model training\n",
    "model.fit(X_train, y_train)\n",
    "\n",
    "# Predict Output\n",
    "predicted = model.predict([X_test[6]])\n",
    "\n",
    "print(\"Actual Value:\", y_test[6])\n",
    "print(\"Predicted Value:\", predicted[0])"
   ]
  },
  {
   "cell_type": "code",
   "execution_count": 45,
   "id": "b0dfe557",
   "metadata": {},
   "outputs": [
    {
     "name": "stdout",
     "output_type": "stream",
     "text": [
      "Accuracy: 0.2894736842105263\n",
      "F1 Score: 0.2851707998721773\n"
     ]
    }
   ],
   "source": [
    "y_pred = model.predict(X_test)\n",
    "accuray = accuracy_score(y_pred, y_test)\n",
    "f1 = f1_score(y_pred, y_test, average=\"weighted\")\n",
    "\n",
    "print(\"Accuracy:\", accuray)\n",
    "print(\"F1 Score:\", f1)"
   ]
  },
  {
   "cell_type": "code",
   "execution_count": 46,
   "id": "ea1a8bc8",
   "metadata": {},
   "outputs": [
    {
     "data": {
      "text/plain": [
       "array([[90,  0,  0, 19, 10, 40],\n",
       "       [23, 12, 16, 38, 12, 58],\n",
       "       [10,  5,  8,  7,  1, 12],\n",
       "       [ 6,  1,  0,  7,  0, 11],\n",
       "       [11,  4,  9,  8,  2, 17],\n",
       "       [ 2,  0,  1,  3,  0, 13]])"
      ]
     },
     "execution_count": 46,
     "metadata": {},
     "output_type": "execute_result"
    }
   ],
   "source": [
    "cm = confusion_matrix(y_test, y_pred)\n",
    "cm"
   ]
  }
 ],
 "metadata": {
  "kernelspec": {
   "display_name": "Python 3 (ipykernel)",
   "language": "python",
   "name": "python3"
  },
  "language_info": {
   "codemirror_mode": {
    "name": "ipython",
    "version": 3
   },
   "file_extension": ".py",
   "mimetype": "text/x-python",
   "name": "python",
   "nbconvert_exporter": "python",
   "pygments_lexer": "ipython3",
   "version": "3.10.6"
  }
 },
 "nbformat": 4,
 "nbformat_minor": 5
}
