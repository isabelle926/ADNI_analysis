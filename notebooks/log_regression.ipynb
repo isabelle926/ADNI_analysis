{
 "cells": [
  {
   "cell_type": "code",
   "execution_count": 1,
   "id": "a04159d5",
   "metadata": {},
   "outputs": [
    {
     "data": {
      "text/html": [
       "<div>\n",
       "<style scoped>\n",
       "    .dataframe tbody tr th:only-of-type {\n",
       "        vertical-align: middle;\n",
       "    }\n",
       "\n",
       "    .dataframe tbody tr th {\n",
       "        vertical-align: top;\n",
       "    }\n",
       "\n",
       "    .dataframe thead th {\n",
       "        text-align: right;\n",
       "    }\n",
       "</style>\n",
       "<table border=\"1\" class=\"dataframe\">\n",
       "  <thead>\n",
       "    <tr style=\"text-align: right;\">\n",
       "      <th></th>\n",
       "      <th>AD_MCP</th>\n",
       "      <th>AD_PCT</th>\n",
       "      <th>AD_GCC</th>\n",
       "      <th>AD_BCC</th>\n",
       "      <th>AD_SCC</th>\n",
       "      <th>AD_FX</th>\n",
       "      <th>AD_CST_R</th>\n",
       "      <th>AD_CST_L</th>\n",
       "      <th>AD_ML_R</th>\n",
       "      <th>AD_ML_L</th>\n",
       "      <th>...</th>\n",
       "      <th>RD_FXST</th>\n",
       "      <th>RD_SLF</th>\n",
       "      <th>RD_SFO</th>\n",
       "      <th>RD_UNC</th>\n",
       "      <th>RD_TAP</th>\n",
       "      <th>RD_IC</th>\n",
       "      <th>RD_CC</th>\n",
       "      <th>RD_CR</th>\n",
       "      <th>RD_FULLWM</th>\n",
       "      <th>Research Group</th>\n",
       "    </tr>\n",
       "  </thead>\n",
       "  <tbody>\n",
       "    <tr>\n",
       "      <th>0</th>\n",
       "      <td>0.001177</td>\n",
       "      <td>0.000974</td>\n",
       "      <td>0.001479</td>\n",
       "      <td>0.001474</td>\n",
       "      <td>0.001575</td>\n",
       "      <td>0.002257</td>\n",
       "      <td>0.001079</td>\n",
       "      <td>0.001081</td>\n",
       "      <td>0.001285</td>\n",
       "      <td>0.001287</td>\n",
       "      <td>...</td>\n",
       "      <td>0.000662</td>\n",
       "      <td>0.000577</td>\n",
       "      <td>0.000551</td>\n",
       "      <td>0.000600</td>\n",
       "      <td>0.001139</td>\n",
       "      <td>0.000491</td>\n",
       "      <td>0.000562</td>\n",
       "      <td>0.000638</td>\n",
       "      <td>0.000571</td>\n",
       "      <td>CN</td>\n",
       "    </tr>\n",
       "    <tr>\n",
       "      <th>2</th>\n",
       "      <td>0.001213</td>\n",
       "      <td>0.001075</td>\n",
       "      <td>0.001567</td>\n",
       "      <td>0.001585</td>\n",
       "      <td>0.001686</td>\n",
       "      <td>0.002492</td>\n",
       "      <td>0.001046</td>\n",
       "      <td>0.001056</td>\n",
       "      <td>0.001149</td>\n",
       "      <td>0.001126</td>\n",
       "      <td>...</td>\n",
       "      <td>0.000769</td>\n",
       "      <td>0.000694</td>\n",
       "      <td>0.000902</td>\n",
       "      <td>0.000717</td>\n",
       "      <td>0.001507</td>\n",
       "      <td>0.000626</td>\n",
       "      <td>0.000701</td>\n",
       "      <td>0.000851</td>\n",
       "      <td>0.000723</td>\n",
       "      <td>CN</td>\n",
       "    </tr>\n",
       "    <tr>\n",
       "      <th>3</th>\n",
       "      <td>0.001101</td>\n",
       "      <td>0.000965</td>\n",
       "      <td>0.001440</td>\n",
       "      <td>0.001433</td>\n",
       "      <td>0.001456</td>\n",
       "      <td>0.002379</td>\n",
       "      <td>0.000985</td>\n",
       "      <td>0.000990</td>\n",
       "      <td>0.001118</td>\n",
       "      <td>0.001113</td>\n",
       "      <td>...</td>\n",
       "      <td>0.000614</td>\n",
       "      <td>0.000546</td>\n",
       "      <td>0.000562</td>\n",
       "      <td>0.000553</td>\n",
       "      <td>0.000950</td>\n",
       "      <td>0.000448</td>\n",
       "      <td>0.000512</td>\n",
       "      <td>0.000587</td>\n",
       "      <td>0.000531</td>\n",
       "      <td>CN</td>\n",
       "    </tr>\n",
       "    <tr>\n",
       "      <th>4</th>\n",
       "      <td>0.001053</td>\n",
       "      <td>0.000904</td>\n",
       "      <td>0.001433</td>\n",
       "      <td>0.001470</td>\n",
       "      <td>0.001450</td>\n",
       "      <td>0.002421</td>\n",
       "      <td>0.000966</td>\n",
       "      <td>0.000977</td>\n",
       "      <td>0.001047</td>\n",
       "      <td>0.001041</td>\n",
       "      <td>...</td>\n",
       "      <td>0.000607</td>\n",
       "      <td>0.000535</td>\n",
       "      <td>0.000551</td>\n",
       "      <td>0.000530</td>\n",
       "      <td>0.000862</td>\n",
       "      <td>0.000437</td>\n",
       "      <td>0.000509</td>\n",
       "      <td>0.000573</td>\n",
       "      <td>0.000522</td>\n",
       "      <td>CN</td>\n",
       "    </tr>\n",
       "    <tr>\n",
       "      <th>5</th>\n",
       "      <td>0.001131</td>\n",
       "      <td>0.000974</td>\n",
       "      <td>0.001469</td>\n",
       "      <td>0.001498</td>\n",
       "      <td>0.001531</td>\n",
       "      <td>0.002291</td>\n",
       "      <td>0.000994</td>\n",
       "      <td>0.001017</td>\n",
       "      <td>0.001128</td>\n",
       "      <td>0.001105</td>\n",
       "      <td>...</td>\n",
       "      <td>0.000621</td>\n",
       "      <td>0.000559</td>\n",
       "      <td>0.000586</td>\n",
       "      <td>0.000558</td>\n",
       "      <td>0.000901</td>\n",
       "      <td>0.000458</td>\n",
       "      <td>0.000527</td>\n",
       "      <td>0.000605</td>\n",
       "      <td>0.000545</td>\n",
       "      <td>CN</td>\n",
       "    </tr>\n",
       "    <tr>\n",
       "      <th>...</th>\n",
       "      <td>...</td>\n",
       "      <td>...</td>\n",
       "      <td>...</td>\n",
       "      <td>...</td>\n",
       "      <td>...</td>\n",
       "      <td>...</td>\n",
       "      <td>...</td>\n",
       "      <td>...</td>\n",
       "      <td>...</td>\n",
       "      <td>...</td>\n",
       "      <td>...</td>\n",
       "      <td>...</td>\n",
       "      <td>...</td>\n",
       "      <td>...</td>\n",
       "      <td>...</td>\n",
       "      <td>...</td>\n",
       "      <td>...</td>\n",
       "      <td>...</td>\n",
       "      <td>...</td>\n",
       "      <td>...</td>\n",
       "      <td>...</td>\n",
       "    </tr>\n",
       "    <tr>\n",
       "      <th>963</th>\n",
       "      <td>0.001117</td>\n",
       "      <td>0.001011</td>\n",
       "      <td>0.001574</td>\n",
       "      <td>0.001646</td>\n",
       "      <td>0.001712</td>\n",
       "      <td>0.002214</td>\n",
       "      <td>0.001094</td>\n",
       "      <td>0.001118</td>\n",
       "      <td>0.001228</td>\n",
       "      <td>0.001248</td>\n",
       "      <td>...</td>\n",
       "      <td>0.000734</td>\n",
       "      <td>0.000647</td>\n",
       "      <td>0.000913</td>\n",
       "      <td>0.000599</td>\n",
       "      <td>0.001623</td>\n",
       "      <td>0.000538</td>\n",
       "      <td>0.000680</td>\n",
       "      <td>0.000744</td>\n",
       "      <td>0.000652</td>\n",
       "      <td>AD</td>\n",
       "    </tr>\n",
       "    <tr>\n",
       "      <th>964</th>\n",
       "      <td>0.001181</td>\n",
       "      <td>0.001002</td>\n",
       "      <td>0.001423</td>\n",
       "      <td>0.001505</td>\n",
       "      <td>0.001530</td>\n",
       "      <td>0.002266</td>\n",
       "      <td>0.001088</td>\n",
       "      <td>0.001103</td>\n",
       "      <td>0.001224</td>\n",
       "      <td>0.001203</td>\n",
       "      <td>...</td>\n",
       "      <td>0.000584</td>\n",
       "      <td>0.000593</td>\n",
       "      <td>0.000624</td>\n",
       "      <td>0.000619</td>\n",
       "      <td>0.000878</td>\n",
       "      <td>0.000487</td>\n",
       "      <td>0.000567</td>\n",
       "      <td>0.000618</td>\n",
       "      <td>0.000571</td>\n",
       "      <td>CN</td>\n",
       "    </tr>\n",
       "    <tr>\n",
       "      <th>965</th>\n",
       "      <td>0.001126</td>\n",
       "      <td>0.000949</td>\n",
       "      <td>0.001542</td>\n",
       "      <td>0.001747</td>\n",
       "      <td>0.001642</td>\n",
       "      <td>0.002565</td>\n",
       "      <td>0.000978</td>\n",
       "      <td>0.001052</td>\n",
       "      <td>0.001162</td>\n",
       "      <td>0.001190</td>\n",
       "      <td>...</td>\n",
       "      <td>0.000577</td>\n",
       "      <td>0.000589</td>\n",
       "      <td>0.000835</td>\n",
       "      <td>0.000534</td>\n",
       "      <td>0.001478</td>\n",
       "      <td>0.000440</td>\n",
       "      <td>0.000694</td>\n",
       "      <td>0.000659</td>\n",
       "      <td>0.000597</td>\n",
       "      <td>AD</td>\n",
       "    </tr>\n",
       "    <tr>\n",
       "      <th>966</th>\n",
       "      <td>0.001090</td>\n",
       "      <td>0.000976</td>\n",
       "      <td>0.001354</td>\n",
       "      <td>0.001421</td>\n",
       "      <td>0.001427</td>\n",
       "      <td>0.001928</td>\n",
       "      <td>0.001018</td>\n",
       "      <td>0.001007</td>\n",
       "      <td>0.001241</td>\n",
       "      <td>0.001188</td>\n",
       "      <td>...</td>\n",
       "      <td>0.000560</td>\n",
       "      <td>0.000517</td>\n",
       "      <td>0.000514</td>\n",
       "      <td>0.000566</td>\n",
       "      <td>0.000729</td>\n",
       "      <td>0.000441</td>\n",
       "      <td>0.000469</td>\n",
       "      <td>0.000534</td>\n",
       "      <td>0.000509</td>\n",
       "      <td>CN</td>\n",
       "    </tr>\n",
       "    <tr>\n",
       "      <th>967</th>\n",
       "      <td>0.001097</td>\n",
       "      <td>0.000984</td>\n",
       "      <td>0.001477</td>\n",
       "      <td>0.001419</td>\n",
       "      <td>0.001502</td>\n",
       "      <td>0.002556</td>\n",
       "      <td>0.001063</td>\n",
       "      <td>0.001147</td>\n",
       "      <td>0.001268</td>\n",
       "      <td>0.001199</td>\n",
       "      <td>...</td>\n",
       "      <td>0.000601</td>\n",
       "      <td>0.000537</td>\n",
       "      <td>0.000766</td>\n",
       "      <td>0.000605</td>\n",
       "      <td>0.001115</td>\n",
       "      <td>0.000446</td>\n",
       "      <td>0.000598</td>\n",
       "      <td>0.000608</td>\n",
       "      <td>0.000556</td>\n",
       "      <td>MCI</td>\n",
       "    </tr>\n",
       "  </tbody>\n",
       "</table>\n",
       "<p>933 rows × 293 columns</p>\n",
       "</div>"
      ],
      "text/plain": [
       "       AD_MCP    AD_PCT    AD_GCC    AD_BCC    AD_SCC     AD_FX  AD_CST_R  \\\n",
       "0    0.001177  0.000974  0.001479  0.001474  0.001575  0.002257  0.001079   \n",
       "2    0.001213  0.001075  0.001567  0.001585  0.001686  0.002492  0.001046   \n",
       "3    0.001101  0.000965  0.001440  0.001433  0.001456  0.002379  0.000985   \n",
       "4    0.001053  0.000904  0.001433  0.001470  0.001450  0.002421  0.000966   \n",
       "5    0.001131  0.000974  0.001469  0.001498  0.001531  0.002291  0.000994   \n",
       "..        ...       ...       ...       ...       ...       ...       ...   \n",
       "963  0.001117  0.001011  0.001574  0.001646  0.001712  0.002214  0.001094   \n",
       "964  0.001181  0.001002  0.001423  0.001505  0.001530  0.002266  0.001088   \n",
       "965  0.001126  0.000949  0.001542  0.001747  0.001642  0.002565  0.000978   \n",
       "966  0.001090  0.000976  0.001354  0.001421  0.001427  0.001928  0.001018   \n",
       "967  0.001097  0.000984  0.001477  0.001419  0.001502  0.002556  0.001063   \n",
       "\n",
       "     AD_CST_L   AD_ML_R   AD_ML_L  ...   RD_FXST    RD_SLF    RD_SFO  \\\n",
       "0    0.001081  0.001285  0.001287  ...  0.000662  0.000577  0.000551   \n",
       "2    0.001056  0.001149  0.001126  ...  0.000769  0.000694  0.000902   \n",
       "3    0.000990  0.001118  0.001113  ...  0.000614  0.000546  0.000562   \n",
       "4    0.000977  0.001047  0.001041  ...  0.000607  0.000535  0.000551   \n",
       "5    0.001017  0.001128  0.001105  ...  0.000621  0.000559  0.000586   \n",
       "..        ...       ...       ...  ...       ...       ...       ...   \n",
       "963  0.001118  0.001228  0.001248  ...  0.000734  0.000647  0.000913   \n",
       "964  0.001103  0.001224  0.001203  ...  0.000584  0.000593  0.000624   \n",
       "965  0.001052  0.001162  0.001190  ...  0.000577  0.000589  0.000835   \n",
       "966  0.001007  0.001241  0.001188  ...  0.000560  0.000517  0.000514   \n",
       "967  0.001147  0.001268  0.001199  ...  0.000601  0.000537  0.000766   \n",
       "\n",
       "       RD_UNC    RD_TAP     RD_IC     RD_CC     RD_CR  RD_FULLWM  \\\n",
       "0    0.000600  0.001139  0.000491  0.000562  0.000638   0.000571   \n",
       "2    0.000717  0.001507  0.000626  0.000701  0.000851   0.000723   \n",
       "3    0.000553  0.000950  0.000448  0.000512  0.000587   0.000531   \n",
       "4    0.000530  0.000862  0.000437  0.000509  0.000573   0.000522   \n",
       "5    0.000558  0.000901  0.000458  0.000527  0.000605   0.000545   \n",
       "..        ...       ...       ...       ...       ...        ...   \n",
       "963  0.000599  0.001623  0.000538  0.000680  0.000744   0.000652   \n",
       "964  0.000619  0.000878  0.000487  0.000567  0.000618   0.000571   \n",
       "965  0.000534  0.001478  0.000440  0.000694  0.000659   0.000597   \n",
       "966  0.000566  0.000729  0.000441  0.000469  0.000534   0.000509   \n",
       "967  0.000605  0.001115  0.000446  0.000598  0.000608   0.000556   \n",
       "\n",
       "     Research Group  \n",
       "0                CN  \n",
       "2                CN  \n",
       "3                CN  \n",
       "4                CN  \n",
       "5                CN  \n",
       "..              ...  \n",
       "963              AD  \n",
       "964              CN  \n",
       "965              AD  \n",
       "966              CN  \n",
       "967             MCI  \n",
       "\n",
       "[933 rows x 293 columns]"
      ]
     },
     "execution_count": 1,
     "metadata": {},
     "output_type": "execute_result"
    }
   ],
   "source": [
    "import pandas as pd\n",
    "import numpy as np\n",
    "import matplotlib.pyplot as plt\n",
    "df = pd.read_csv('DTI_with_group.csv')\n",
    "# remove unnecessary columns + confounding\n",
    "df = df.drop(['IMAGEUID', 'COLPROT', 'RID', 'VISCODE', \n",
    "                          'VISCODE2', 'EXAMDATE', 'VERSION', 'MANUFACTURER',\n",
    "                         'RUNDATE', 'STATUS', 'QC', 'update_stamp', 'Age', 'VOLUMES', 'Sex'], axis=1)\n",
    "# remove rows with empty values\n",
    "df = df.dropna()\n",
    "df"
   ]
  },
  {
   "cell_type": "code",
   "execution_count": 2,
   "id": "51dc8ff5",
   "metadata": {},
   "outputs": [],
   "source": [
    "from sklearn.linear_model import LogisticRegression\n",
    "from sklearn.metrics import classification_report, confusion_matrix\n",
    "from sklearn.model_selection import train_test_split\n",
    "from sklearn.preprocessing import StandardScaler\n",
    "\n",
    "X = df.iloc[:, df.columns != 'Research Group'].values\n",
    "y = df.iloc[:, -1].values\n",
    "X_train, X_test, y_train, y_test = train_test_split(X, y, test_size=0.33, random_state=17)\n",
    "scaler = StandardScaler()\n",
    "X_train = scaler.fit_transform(X_train)"
   ]
  },
  {
   "cell_type": "code",
   "execution_count": 3,
   "id": "5b5b9623",
   "metadata": {},
   "outputs": [
    {
     "data": {
      "text/html": [
       "<style>#sk-container-id-1 {color: black;}#sk-container-id-1 pre{padding: 0;}#sk-container-id-1 div.sk-toggleable {background-color: white;}#sk-container-id-1 label.sk-toggleable__label {cursor: pointer;display: block;width: 100%;margin-bottom: 0;padding: 0.3em;box-sizing: border-box;text-align: center;}#sk-container-id-1 label.sk-toggleable__label-arrow:before {content: \"▸\";float: left;margin-right: 0.25em;color: #696969;}#sk-container-id-1 label.sk-toggleable__label-arrow:hover:before {color: black;}#sk-container-id-1 div.sk-estimator:hover label.sk-toggleable__label-arrow:before {color: black;}#sk-container-id-1 div.sk-toggleable__content {max-height: 0;max-width: 0;overflow: hidden;text-align: left;background-color: #f0f8ff;}#sk-container-id-1 div.sk-toggleable__content pre {margin: 0.2em;color: black;border-radius: 0.25em;background-color: #f0f8ff;}#sk-container-id-1 input.sk-toggleable__control:checked~div.sk-toggleable__content {max-height: 200px;max-width: 100%;overflow: auto;}#sk-container-id-1 input.sk-toggleable__control:checked~label.sk-toggleable__label-arrow:before {content: \"▾\";}#sk-container-id-1 div.sk-estimator input.sk-toggleable__control:checked~label.sk-toggleable__label {background-color: #d4ebff;}#sk-container-id-1 div.sk-label input.sk-toggleable__control:checked~label.sk-toggleable__label {background-color: #d4ebff;}#sk-container-id-1 input.sk-hidden--visually {border: 0;clip: rect(1px 1px 1px 1px);clip: rect(1px, 1px, 1px, 1px);height: 1px;margin: -1px;overflow: hidden;padding: 0;position: absolute;width: 1px;}#sk-container-id-1 div.sk-estimator {font-family: monospace;background-color: #f0f8ff;border: 1px dotted black;border-radius: 0.25em;box-sizing: border-box;margin-bottom: 0.5em;}#sk-container-id-1 div.sk-estimator:hover {background-color: #d4ebff;}#sk-container-id-1 div.sk-parallel-item::after {content: \"\";width: 100%;border-bottom: 1px solid gray;flex-grow: 1;}#sk-container-id-1 div.sk-label:hover label.sk-toggleable__label {background-color: #d4ebff;}#sk-container-id-1 div.sk-serial::before {content: \"\";position: absolute;border-left: 1px solid gray;box-sizing: border-box;top: 0;bottom: 0;left: 50%;z-index: 0;}#sk-container-id-1 div.sk-serial {display: flex;flex-direction: column;align-items: center;background-color: white;padding-right: 0.2em;padding-left: 0.2em;position: relative;}#sk-container-id-1 div.sk-item {position: relative;z-index: 1;}#sk-container-id-1 div.sk-parallel {display: flex;align-items: stretch;justify-content: center;background-color: white;position: relative;}#sk-container-id-1 div.sk-item::before, #sk-container-id-1 div.sk-parallel-item::before {content: \"\";position: absolute;border-left: 1px solid gray;box-sizing: border-box;top: 0;bottom: 0;left: 50%;z-index: -1;}#sk-container-id-1 div.sk-parallel-item {display: flex;flex-direction: column;z-index: 1;position: relative;background-color: white;}#sk-container-id-1 div.sk-parallel-item:first-child::after {align-self: flex-end;width: 50%;}#sk-container-id-1 div.sk-parallel-item:last-child::after {align-self: flex-start;width: 50%;}#sk-container-id-1 div.sk-parallel-item:only-child::after {width: 0;}#sk-container-id-1 div.sk-dashed-wrapped {border: 1px dashed gray;margin: 0 0.4em 0.5em 0.4em;box-sizing: border-box;padding-bottom: 0.4em;background-color: white;}#sk-container-id-1 div.sk-label label {font-family: monospace;font-weight: bold;display: inline-block;line-height: 1.2em;}#sk-container-id-1 div.sk-label-container {text-align: center;}#sk-container-id-1 div.sk-container {/* jupyter's `normalize.less` sets `[hidden] { display: none; }` but bootstrap.min.css set `[hidden] { display: none !important; }` so we also need the `!important` here to be able to override the default hidden behavior on the sphinx rendered scikit-learn.org. See: https://github.com/scikit-learn/scikit-learn/issues/21755 */display: inline-block !important;position: relative;}#sk-container-id-1 div.sk-text-repr-fallback {display: none;}</style><div id=\"sk-container-id-1\" class=\"sk-top-container\"><div class=\"sk-text-repr-fallback\"><pre>LogisticRegression(C=0.05, multi_class=&#x27;ovr&#x27;, random_state=0,\n",
       "                   solver=&#x27;liblinear&#x27;)</pre><b>In a Jupyter environment, please rerun this cell to show the HTML representation or trust the notebook. <br />On GitHub, the HTML representation is unable to render, please try loading this page with nbviewer.org.</b></div><div class=\"sk-container\" hidden><div class=\"sk-item\"><div class=\"sk-estimator sk-toggleable\"><input class=\"sk-toggleable__control sk-hidden--visually\" id=\"sk-estimator-id-1\" type=\"checkbox\" checked><label for=\"sk-estimator-id-1\" class=\"sk-toggleable__label sk-toggleable__label-arrow\">LogisticRegression</label><div class=\"sk-toggleable__content\"><pre>LogisticRegression(C=0.05, multi_class=&#x27;ovr&#x27;, random_state=0,\n",
       "                   solver=&#x27;liblinear&#x27;)</pre></div></div></div></div></div>"
      ],
      "text/plain": [
       "LogisticRegression(C=0.05, multi_class='ovr', random_state=0,\n",
       "                   solver='liblinear')"
      ]
     },
     "execution_count": 3,
     "metadata": {},
     "output_type": "execute_result"
    }
   ],
   "source": [
    "model = LogisticRegression(solver='liblinear', C=0.05, multi_class='ovr',\n",
    "                           random_state=0)\n",
    "model.fit(X_train, y_train)"
   ]
  },
  {
   "cell_type": "code",
   "execution_count": 4,
   "id": "73d325c3",
   "metadata": {},
   "outputs": [
    {
     "data": {
      "text/plain": [
       "0.6528"
      ]
     },
     "execution_count": 4,
     "metadata": {},
     "output_type": "execute_result"
    }
   ],
   "source": [
    "X_test = scaler.transform(X_test)\n",
    "y_pred = model.predict(X_test)\n",
    "model.score(X_train, y_train)"
   ]
  },
  {
   "cell_type": "code",
   "execution_count": 5,
   "id": "f27ca1e5",
   "metadata": {},
   "outputs": [
    {
     "data": {
      "text/plain": [
       "0.5162337662337663"
      ]
     },
     "execution_count": 5,
     "metadata": {},
     "output_type": "execute_result"
    }
   ],
   "source": [
    "model.score(X_test, y_test)"
   ]
  },
  {
   "cell_type": "code",
   "execution_count": 6,
   "id": "910110f7",
   "metadata": {},
   "outputs": [
    {
     "data": {
      "text/plain": [
       "array([[  0,   5,   0,   0,   5,   0],\n",
       "       [  1, 142,   8,   1,  12,   2],\n",
       "       [  1,  23,   3,   1,   7,   0],\n",
       "       [  1,  10,   1,   0,   1,   0],\n",
       "       [  2,  48,   3,   1,  10,   0],\n",
       "       [  0,  16,   0,   0,   0,   4]])"
      ]
     },
     "execution_count": 6,
     "metadata": {},
     "output_type": "execute_result"
    }
   ],
   "source": [
    "confusion_matrix(y_test, y_pred)"
   ]
  },
  {
   "cell_type": "code",
   "execution_count": 7,
   "id": "8d511aa0",
   "metadata": {},
   "outputs": [
    {
     "ename": "NameError",
     "evalue": "name 'font_size' is not defined",
     "output_type": "error",
     "traceback": [
      "\u001b[0;31m---------------------------------------------------------------------------\u001b[0m",
      "\u001b[0;31mNameError\u001b[0m                                 Traceback (most recent call last)",
      "Cell \u001b[0;32mIn[7], line 6\u001b[0m\n\u001b[1;32m      4\u001b[0m ax\u001b[38;5;241m.\u001b[39mimshow(cm)\n\u001b[1;32m      5\u001b[0m ax\u001b[38;5;241m.\u001b[39mgrid(\u001b[38;5;28;01mFalse\u001b[39;00m)\n\u001b[0;32m----> 6\u001b[0m ax\u001b[38;5;241m.\u001b[39mset_xlabel(\u001b[38;5;124m'\u001b[39m\u001b[38;5;124mPredicted outputs\u001b[39m\u001b[38;5;124m'\u001b[39m, fontsize\u001b[38;5;241m=\u001b[39m\u001b[43mfont_size\u001b[49m, color\u001b[38;5;241m=\u001b[39m\u001b[38;5;124m'\u001b[39m\u001b[38;5;124mblack\u001b[39m\u001b[38;5;124m'\u001b[39m)\n\u001b[1;32m      7\u001b[0m ax\u001b[38;5;241m.\u001b[39mset_ylabel(\u001b[38;5;124m'\u001b[39m\u001b[38;5;124mActual outputs\u001b[39m\u001b[38;5;124m'\u001b[39m, fontsize\u001b[38;5;241m=\u001b[39mfont_size, color\u001b[38;5;241m=\u001b[39m\u001b[38;5;124m'\u001b[39m\u001b[38;5;124mblack\u001b[39m\u001b[38;5;124m'\u001b[39m)\n\u001b[1;32m      8\u001b[0m ax\u001b[38;5;241m.\u001b[39mxaxis\u001b[38;5;241m.\u001b[39mset(ticks\u001b[38;5;241m=\u001b[39m\u001b[38;5;28mrange\u001b[39m(\u001b[38;5;241m10\u001b[39m))\n",
      "\u001b[0;31mNameError\u001b[0m: name 'font_size' is not defined"
     ]
    },
    {
     "data": {
      "image/png": "[encoded data removed]",
      "text/plain": [
       "<Figure size 800x800 with 1 Axes>"
      ]
     },
     "metadata": {},
     "output_type": "display_data"
    }
   ],
   "source": [
    "cm = confusion_matrix(y_test, y_pred)\n",
    "\n",
    "fig, ax = plt.subplots(figsize=(8, 8))\n",
    "ax.imshow(cm)\n",
    "ax.grid(False)\n",
    "ax.set_xlabel('Predicted outputs', fontsize=font_size, color='black')\n",
    "ax.set_ylabel('Actual outputs', fontsize=font_size, color='black')\n",
    "ax.xaxis.set(ticks=range(10))\n",
    "ax.yaxis.set(ticks=range(10))\n",
    "ax.set_ylim(9.5, -0.5)\n",
    "for i in range(10):\n",
    "    for j in range(10):\n",
    "        ax.text(j, i, cm[i, j], ha='center', va='center', color='white')\n",
    "plt.show()"
   ]
  },
  {
   "cell_type": "code",
   "execution_count": 8,
   "id": "e9168c10",
   "metadata": {},
   "outputs": [
    {
     "name": "stdout",
     "output_type": "stream",
     "text": [
      "              precision    recall  f1-score   support\n",
      "\n",
      "          AD       0.00      0.00      0.00        10\n",
      "          CN       0.58      0.86      0.69       166\n",
      "        EMCI       0.20      0.09      0.12        35\n",
      "        LMCI       0.00      0.00      0.00        13\n",
      "         MCI       0.29      0.16      0.20        64\n",
      "         SMC       0.67      0.20      0.31        20\n",
      "\n",
      "    accuracy                           0.52       308\n",
      "   macro avg       0.29      0.22      0.22       308\n",
      "weighted avg       0.44      0.52      0.45       308\n",
      "\n"
     ]
    }
   ],
   "source": [
    "print(classification_report(y_test, y_pred))"
   ]
  },
  {
   "cell_type": "markdown",
   "id": "e39a5990",
   "metadata": {},
   "source": [
    "### Combined MCI groups"
   ]
  },
  {
   "cell_type": "code",
   "execution_count": 9,
   "id": "be248e0a",
   "metadata": {},
   "outputs": [],
   "source": [
    "df = pd.read_csv('DTI_with_group_comb.csv')\n",
    "# remove unnecessary columns + confounding\n",
    "df = df.drop(['IMAGEUID', 'COLPROT', 'RID', 'VISCODE', \n",
    "                          'VISCODE2', 'EXAMDATE', 'VERSION', 'MANUFACTURER',\n",
    "                         'RUNDATE', 'STATUS', 'QC', 'update_stamp', 'Age', 'VOLUMES', 'Sex'], axis=1)\n",
    "# remove rows with empty values\n",
    "df = df.dropna()"
   ]
  },
  {
   "cell_type": "code",
   "execution_count": 10,
   "id": "39bec28d",
   "metadata": {},
   "outputs": [],
   "source": [
    "X = df.iloc[:, df.columns != 'Research Group'].values\n",
    "y = df.iloc[:, -1].values\n",
    "X_train, X_test, y_train, y_test = train_test_split(X, y, test_size=0.33, random_state=19)\n",
    "scaler = StandardScaler()\n",
    "X_train = scaler.fit_transform(X_train)"
   ]
  },
  {
   "cell_type": "code",
   "execution_count": 11,
   "id": "308fb6b0",
   "metadata": {},
   "outputs": [
    {
     "data": {
      "text/html": [
       "<style>#sk-container-id-2 {color: black;}#sk-container-id-2 pre{padding: 0;}#sk-container-id-2 div.sk-toggleable {background-color: white;}#sk-container-id-2 label.sk-toggleable__label {cursor: pointer;display: block;width: 100%;margin-bottom: 0;padding: 0.3em;box-sizing: border-box;text-align: center;}#sk-container-id-2 label.sk-toggleable__label-arrow:before {content: \"▸\";float: left;margin-right: 0.25em;color: #696969;}#sk-container-id-2 label.sk-toggleable__label-arrow:hover:before {color: black;}#sk-container-id-2 div.sk-estimator:hover label.sk-toggleable__label-arrow:before {color: black;}#sk-container-id-2 div.sk-toggleable__content {max-height: 0;max-width: 0;overflow: hidden;text-align: left;background-color: #f0f8ff;}#sk-container-id-2 div.sk-toggleable__content pre {margin: 0.2em;color: black;border-radius: 0.25em;background-color: #f0f8ff;}#sk-container-id-2 input.sk-toggleable__control:checked~div.sk-toggleable__content {max-height: 200px;max-width: 100%;overflow: auto;}#sk-container-id-2 input.sk-toggleable__control:checked~label.sk-toggleable__label-arrow:before {content: \"▾\";}#sk-container-id-2 div.sk-estimator input.sk-toggleable__control:checked~label.sk-toggleable__label {background-color: #d4ebff;}#sk-container-id-2 div.sk-label input.sk-toggleable__control:checked~label.sk-toggleable__label {background-color: #d4ebff;}#sk-container-id-2 input.sk-hidden--visually {border: 0;clip: rect(1px 1px 1px 1px);clip: rect(1px, 1px, 1px, 1px);height: 1px;margin: -1px;overflow: hidden;padding: 0;position: absolute;width: 1px;}#sk-container-id-2 div.sk-estimator {font-family: monospace;background-color: #f0f8ff;border: 1px dotted black;border-radius: 0.25em;box-sizing: border-box;margin-bottom: 0.5em;}#sk-container-id-2 div.sk-estimator:hover {background-color: #d4ebff;}#sk-container-id-2 div.sk-parallel-item::after {content: \"\";width: 100%;border-bottom: 1px solid gray;flex-grow: 1;}#sk-container-id-2 div.sk-label:hover label.sk-toggleable__label {background-color: #d4ebff;}#sk-container-id-2 div.sk-serial::before {content: \"\";position: absolute;border-left: 1px solid gray;box-sizing: border-box;top: 0;bottom: 0;left: 50%;z-index: 0;}#sk-container-id-2 div.sk-serial {display: flex;flex-direction: column;align-items: center;background-color: white;padding-right: 0.2em;padding-left: 0.2em;position: relative;}#sk-container-id-2 div.sk-item {position: relative;z-index: 1;}#sk-container-id-2 div.sk-parallel {display: flex;align-items: stretch;justify-content: center;background-color: white;position: relative;}#sk-container-id-2 div.sk-item::before, #sk-container-id-2 div.sk-parallel-item::before {content: \"\";position: absolute;border-left: 1px solid gray;box-sizing: border-box;top: 0;bottom: 0;left: 50%;z-index: -1;}#sk-container-id-2 div.sk-parallel-item {display: flex;flex-direction: column;z-index: 1;position: relative;background-color: white;}#sk-container-id-2 div.sk-parallel-item:first-child::after {align-self: flex-end;width: 50%;}#sk-container-id-2 div.sk-parallel-item:last-child::after {align-self: flex-start;width: 50%;}#sk-container-id-2 div.sk-parallel-item:only-child::after {width: 0;}#sk-container-id-2 div.sk-dashed-wrapped {border: 1px dashed gray;margin: 0 0.4em 0.5em 0.4em;box-sizing: border-box;padding-bottom: 0.4em;background-color: white;}#sk-container-id-2 div.sk-label label {font-family: monospace;font-weight: bold;display: inline-block;line-height: 1.2em;}#sk-container-id-2 div.sk-label-container {text-align: center;}#sk-container-id-2 div.sk-container {/* jupyter's `normalize.less` sets `[hidden] { display: none; }` but bootstrap.min.css set `[hidden] { display: none !important; }` so we also need the `!important` here to be able to override the default hidden behavior on the sphinx rendered scikit-learn.org. See: https://github.com/scikit-learn/scikit-learn/issues/21755 */display: inline-block !important;position: relative;}#sk-container-id-2 div.sk-text-repr-fallback {display: none;}</style><div id=\"sk-container-id-2\" class=\"sk-top-container\"><div class=\"sk-text-repr-fallback\"><pre>LogisticRegression(C=0.05, multi_class=&#x27;ovr&#x27;, random_state=0,\n",
       "                   solver=&#x27;liblinear&#x27;)</pre><b>In a Jupyter environment, please rerun this cell to show the HTML representation or trust the notebook. <br />On GitHub, the HTML representation is unable to render, please try loading this page with nbviewer.org.</b></div><div class=\"sk-container\" hidden><div class=\"sk-item\"><div class=\"sk-estimator sk-toggleable\"><input class=\"sk-toggleable__control sk-hidden--visually\" id=\"sk-estimator-id-2\" type=\"checkbox\" checked><label for=\"sk-estimator-id-2\" class=\"sk-toggleable__label sk-toggleable__label-arrow\">LogisticRegression</label><div class=\"sk-toggleable__content\"><pre>LogisticRegression(C=0.05, multi_class=&#x27;ovr&#x27;, random_state=0,\n",
       "                   solver=&#x27;liblinear&#x27;)</pre></div></div></div></div></div>"
      ],
      "text/plain": [
       "LogisticRegression(C=0.05, multi_class='ovr', random_state=0,\n",
       "                   solver='liblinear')"
      ]
     },
     "execution_count": 11,
     "metadata": {},
     "output_type": "execute_result"
    }
   ],
   "source": [
    "model = LogisticRegression(solver='liblinear', C=0.05, multi_class='ovr',\n",
    "                           random_state=0)\n",
    "model.fit(X_train, y_train)"
   ]
  },
  {
   "cell_type": "code",
   "execution_count": 12,
   "id": "93946332",
   "metadata": {},
   "outputs": [
    {
     "data": {
      "text/plain": [
       "0.728"
      ]
     },
     "execution_count": 12,
     "metadata": {},
     "output_type": "execute_result"
    }
   ],
   "source": [
    "X_test = scaler.transform(X_test)\n",
    "y_pred = model.predict(X_test)\n",
    "model.score(X_train, y_train)"
   ]
  },
  {
   "cell_type": "code",
   "execution_count": 13,
   "id": "d70f9ac2",
   "metadata": {},
   "outputs": [
    {
     "data": {
      "text/plain": [
       "0.6071428571428571"
      ]
     },
     "execution_count": 13,
     "metadata": {},
     "output_type": "execute_result"
    }
   ],
   "source": [
    "model.score(X_test, y_test)"
   ]
  },
  {
   "cell_type": "code",
   "execution_count": 14,
   "id": "b24a9522",
   "metadata": {},
   "outputs": [
    {
     "ename": "NameError",
     "evalue": "name 'font_size' is not defined",
     "output_type": "error",
     "traceback": [
      "\u001b[0;31m---------------------------------------------------------------------------\u001b[0m",
      "\u001b[0;31mNameError\u001b[0m                                 Traceback (most recent call last)",
      "Cell \u001b[0;32mIn[14], line 6\u001b[0m\n\u001b[1;32m      4\u001b[0m ax\u001b[38;5;241m.\u001b[39mimshow(cm)\n\u001b[1;32m      5\u001b[0m ax\u001b[38;5;241m.\u001b[39mgrid(\u001b[38;5;28;01mFalse\u001b[39;00m)\n\u001b[0;32m----> 6\u001b[0m ax\u001b[38;5;241m.\u001b[39mset_xlabel(\u001b[38;5;124m'\u001b[39m\u001b[38;5;124mPredicted outputs\u001b[39m\u001b[38;5;124m'\u001b[39m, fontsize\u001b[38;5;241m=\u001b[39m\u001b[43mfont_size\u001b[49m, color\u001b[38;5;241m=\u001b[39m\u001b[38;5;124m'\u001b[39m\u001b[38;5;124mblack\u001b[39m\u001b[38;5;124m'\u001b[39m)\n\u001b[1;32m      7\u001b[0m ax\u001b[38;5;241m.\u001b[39mset_ylabel(\u001b[38;5;124m'\u001b[39m\u001b[38;5;124mActual outputs\u001b[39m\u001b[38;5;124m'\u001b[39m, fontsize\u001b[38;5;241m=\u001b[39mfont_size, color\u001b[38;5;241m=\u001b[39m\u001b[38;5;124m'\u001b[39m\u001b[38;5;124mblack\u001b[39m\u001b[38;5;124m'\u001b[39m)\n\u001b[1;32m      8\u001b[0m ax\u001b[38;5;241m.\u001b[39mxaxis\u001b[38;5;241m.\u001b[39mset(ticks\u001b[38;5;241m=\u001b[39m\u001b[38;5;28mrange\u001b[39m(\u001b[38;5;241m10\u001b[39m))\n",
      "\u001b[0;31mNameError\u001b[0m: name 'font_size' is not defined"
     ]
    },
    {
     "data": {
      "image/png": "[encoded data removed]",
      "text/plain": [
       "<Figure size 800x800 with 1 Axes>"
      ]
     },
     "metadata": {},
     "output_type": "display_data"
    }
   ],
   "source": [
    "cm = confusion_matrix(y_test, y_pred)\n",
    "\n",
    "fig, ax = plt.subplots(figsize=(8, 8))\n",
    "ax.imshow(cm)\n",
    "ax.grid(False)\n",
    "ax.set_xlabel('Predicted outputs', fontsize=font_size, color='black')\n",
    "ax.set_ylabel('Actual outputs', fontsize=font_size, color='black')\n",
    "ax.xaxis.set(ticks=range(10))\n",
    "ax.yaxis.set(ticks=range(10))\n",
    "ax.set_ylim(9.5, -0.5)\n",
    "for i in range(10):\n",
    "    for j in range(10):\n",
    "        ax.text(j, i, cm[i, j], ha='center', va='center', color='white')\n",
    "plt.show()"
   ]
  },
  {
   "cell_type": "code",
   "execution_count": 15,
   "id": "bb11a987",
   "metadata": {},
   "outputs": [
    {
     "name": "stdout",
     "output_type": "stream",
     "text": [
      "              precision    recall  f1-score   support\n",
      "\n",
      "          AD       0.00      0.00      0.00        16\n",
      "          CN       0.65      0.83      0.73       180\n",
      "         MCI       0.49      0.34      0.40       112\n",
      "\n",
      "    accuracy                           0.61       308\n",
      "   macro avg       0.38      0.39      0.38       308\n",
      "weighted avg       0.56      0.61      0.57       308\n",
      "\n"
     ]
    }
   ],
   "source": [
    "print(classification_report(y_test, y_pred))"
   ]
  },
  {
   "cell_type": "code",
   "execution_count": null,
   "id": "6cf4c260",
   "metadata": {},
   "outputs": [],
   "source": []
  }
 ],
 "metadata": {
  "kernelspec": {
   "display_name": "Python 3 (ipykernel)",
   "language": "python",
   "name": "python3"
  },
  "language_info": {
   "codemirror_mode": {
    "name": "ipython",
    "version": 3
   },
   "file_extension": ".py",
   "mimetype": "text/x-python",
   "name": "python",
   "nbconvert_exporter": "python",
   "pygments_lexer": "ipython3",
   "version": "3.10.6"
  }
 },
 "nbformat": 4,
 "nbformat_minor": 5
}
